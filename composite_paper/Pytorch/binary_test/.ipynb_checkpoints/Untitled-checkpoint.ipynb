{
 "cells": [
  {
   "cell_type": "code",
   "execution_count": 81,
   "metadata": {},
   "outputs": [
    {
     "name": "stdout",
     "output_type": "stream",
     "text": [
      "tensor([[0.0200, 0.0371, 0.0428,  ..., 0.0084, 0.0090, 0.0032],\n",
      "        [0.0453, 0.0523, 0.0843,  ..., 0.0049, 0.0052, 0.0044],\n",
      "        [0.0262, 0.0582, 0.1099,  ..., 0.0164, 0.0095, 0.0078],\n",
      "        ...,\n",
      "        [0.0522, 0.0437, 0.0180,  ..., 0.0138, 0.0077, 0.0031],\n",
      "        [0.0303, 0.0353, 0.0490,  ..., 0.0079, 0.0036, 0.0048],\n",
      "        [0.0260, 0.0363, 0.0136,  ..., 0.0036, 0.0061, 0.0115]])\n",
      "tensor([1., 1., 1., 1., 1., 1., 1., 1., 1., 1., 1., 1., 1., 1., 1., 1., 1., 1.,\n",
      "        1., 1., 1., 1., 1., 1., 1., 1., 1., 1., 1., 1., 1., 1., 1., 1., 1., 1.,\n",
      "        1., 1., 1., 1., 1., 1., 1., 1., 1., 1., 1., 1., 1., 1., 1., 1., 1., 1.,\n",
      "        1., 1., 1., 1., 1., 1., 1., 1., 1., 1., 1., 1., 1., 1., 1., 1., 1., 1.,\n",
      "        1., 1., 1., 1., 1., 1., 1., 1., 1., 1., 1., 1., 1., 1., 1., 1., 1., 1.,\n",
      "        1., 1., 1., 1., 1., 1., 1., 0., 0., 0., 0., 0., 0., 0., 0., 0., 0., 0.,\n",
      "        0., 0., 0., 0., 0., 0., 0., 0., 0., 0., 0., 0., 0., 0., 0., 0., 0., 0.,\n",
      "        0., 0., 0., 0., 0., 0., 0., 0., 0., 0., 0., 0., 0., 0., 0., 0., 0., 0.,\n",
      "        0., 0., 0., 0., 0., 0., 0., 0., 0., 0., 0., 0., 0., 0., 0., 0., 0., 0.,\n",
      "        0., 0., 0., 0., 0., 0., 0., 0., 0., 0., 0., 0., 0., 0., 0., 0., 0., 0.,\n",
      "        0., 0., 0., 0., 0., 0., 0., 0., 0., 0., 0., 0., 0., 0., 0., 0., 0., 0.,\n",
      "        0., 0., 0., 0., 0., 0., 0., 0., 0., 0.])\n"
     ]
    },
    {
     "name": "stderr",
     "output_type": "stream",
     "text": [
      "/Users/7jz/anaconda3/lib/python3.6/site-packages/sklearn/preprocessing/label.py:95: DataConversionWarning: A column-vector y was passed when a 1d array was expected. Please change the shape of y to (n_samples, ), for example using ravel().\n",
      "  y = column_or_1d(y, warn=True)\n",
      "/Users/7jz/anaconda3/lib/python3.6/site-packages/sklearn/preprocessing/label.py:128: DataConversionWarning: A column-vector y was passed when a 1d array was expected. Please change the shape of y to (n_samples, ), for example using ravel().\n",
      "  y = column_or_1d(y, warn=True)\n"
     ]
    }
   ],
   "source": [
    "import numpy as np\n",
    "import torch\n",
    "import torch.nn.functional as F\n",
    "import matplotlib.pyplot as plt\n",
    "from torch.utils.data import Dataset, DataLoader\n",
    "import pandas\n",
    "from torch.autograd import Variable # torch 中 Variable 模块\n",
    "from sklearn.preprocessing import LabelEncoder\n",
    "\n",
    "%matplotlib inline\n",
    "\n",
    "##------------------------------------------------------------------------------------------------##\n",
    "# class sonarDataset(Dataset):\n",
    "#     ''' sonar dataset from UCI'''\n",
    "    \n",
    "#     #Initialize your data, download, etc..\n",
    "#     def __int__(self):\n",
    "# #         xy = np.loadtxt('sonar.csv',delimiter=' ', dtype=np.float32) # numpy load data\n",
    "#         dataframe = pandas.read_csv(\"sonar.csv\", header=None)\n",
    "#         xy = dataframe.values\n",
    "#         self.len = xy.shape[0]\n",
    "#         self.x_data = torch.from_numpy(xy[:,0:-1])\n",
    "#         self.y_data = torch.from_numpy(xy[:,[-1]])\n",
    "        \n",
    "#     def __getitem__(self, index):\n",
    "#         return self.x_data[index], self.y_data[index]\n",
    "    \n",
    "#     def __len__(self):\n",
    "#         return self.len\n",
    "\n",
    "# dataset = sonarDataset()\n",
    "# print(dataset.len)\n",
    "# train_loader = DataLoader(dataset=dataset,\n",
    "#                          batch_size=32,\n",
    "#                          shuffle = True,\n",
    "#                          num_workers = 2)\n",
    "##------------------------------------------------------------------------------------------------##\n",
    "\n",
    "\n",
    "# xy = np.loadtxt('sonar.csv',delimiter=' ', dtype=np.float32) # numpy load data\n",
    "dataframe = pandas.read_csv(\"sonar.csv\", header=None)\n",
    "xy = dataframe.values\n",
    "\n",
    "x_data0 = xy[:,0:-1].astype(np.float32) # have to add astype(float)\n",
    "# x_data0 = xy[:,0:-1].astype(float) # have to add astype(float)\n",
    "y_data0 = xy[:,[-1]]\n",
    "\n",
    "x_data = torch.from_numpy(x_data0) \n",
    "\n",
    "# encode class values as integers\n",
    "encoder = LabelEncoder()\n",
    "encoder.fit(y_data0)\n",
    "y_data1 = encoder.transform(y_data0)\n",
    "\n",
    "y_data = torch.from_numpy(y_data1) \n",
    "y_data = y_data.float()\n",
    "# y_data = torch.from_numpy(np.array(y_data1, dtype='float')) \n",
    "\n",
    "print(x_data)\n",
    "print(y_data)\n"
   ]
  },
  {
   "cell_type": "code",
   "execution_count": null,
   "metadata": {},
   "outputs": [],
   "source": [
    "class Net(torch.nn.Module):\n",
    "    def __init__(self, n_feature, n_hidden, n_output):\n",
    "        super(Net, self).__init__()\n",
    "        self.hidden = torch.nn.Linear(n_feature, n_hidden)   # hidden layer\n",
    "        self.out = torch.nn.Linear(n_hidden, n_output)   # output layer\n",
    "        self.out_act = torch.nn.Sigmoid()\n",
    "#         self.out_act = torch.nn.Sigmoid()\n",
    "\n",
    "    def forward(self, x):\n",
    "        x = F.relu(self.hidden(x))      # activation function for hidden layer\n",
    "        x = self.out(x)\n",
    "        x = self.out_act(x)\n",
    "        return x\n",
    "\n",
    "net = Net(n_feature=60, n_hidden=100, n_output=1)     # define the network\n",
    "print(net)  # net architecture\n",
    "\n",
    "opt= torch.optim.SGD(net.parameters(), lr=0.02)\n",
    "# loss_func = torch.nn.CrossEntropyLoss()  # the target label is NOT an one-hotted\n",
    "loss_func = torch.nn.BCELoss()\n",
    "\n",
    "# out = net(x_data)                 # input x and predict based on x\n",
    "# loss = loss_func(out, y_data) \n",
    "# print(out)\n",
    "# print(loss)\n",
    "\n",
    "X = x_data\n",
    "Y = y_data"
   ]
  },
  {
   "cell_type": "code",
   "execution_count": 90,
   "metadata": {},
   "outputs": [
    {
     "name": "stdout",
     "output_type": "stream",
     "text": [
      "[array(0.68996274, dtype=float32), array(0.38666016, dtype=float32), array(0.37587047, dtype=float32), array(0.30007792, dtype=float32), array(0.07989351, dtype=float32), [array(0.6895591, dtype=float32), array(0.38594455, dtype=float32), array(0.37580705, dtype=float32), array(0.29988462, dtype=float32), array(0.07969773, dtype=float32)]]\n"
     ]
    },
    {
     "name": "stderr",
     "output_type": "stream",
     "text": [
      "/Users/7jz/anaconda3/lib/python3.6/site-packages/torch/nn/functional.py:2016: UserWarning: Using a target size (torch.Size([50])) that is different to the input size (torch.Size([50, 1])) is deprecated. Please ensure they have the same size.\n",
      "  \"Please ensure they have the same size.\".format(target.size(), input.size()))\n",
      "/Users/7jz/anaconda3/lib/python3.6/site-packages/torch/nn/functional.py:2016: UserWarning: Using a target size (torch.Size([8])) that is different to the input size (torch.Size([8, 1])) is deprecated. Please ensure they have the same size.\n",
      "  \"Please ensure they have the same size.\".format(target.size(), input.size()))\n"
     ]
    }
   ],
   "source": [
    "def train_epoch(model, opt, criterion, batch_size=25):\n",
    "    model.train()\n",
    "    losses = []\n",
    "    for beg_i in range(0, X.size(0), batch_size):\n",
    "        x_batch = X[beg_i:beg_i + batch_size, :]\n",
    "        y_batch = Y[beg_i:beg_i + batch_size]\n",
    "        x_batch = Variable(x_batch)\n",
    "        y_batch = Variable(y_batch)\n",
    "\n",
    "        opt.zero_grad()\n",
    "        # (1) Forward\n",
    "        y_hat = net(x_batch)\n",
    "        # (2) Compute diff\n",
    "        loss = criterion(y_hat, y_batch)\n",
    "        # (3) Compute gradients\n",
    "        loss.backward()\n",
    "        # (4) update weights\n",
    "        opt.step()        \n",
    "        losses.append(loss.data.numpy())\n",
    "    return losses\n",
    "\n",
    "\n",
    "e_losses = []\n",
    "num_epochs = 10\n",
    "for i in range(num_epochs):\n",
    "    e_losses = train_epoch(net, opt, loss_func)\n",
    "#     print(e_losses)\n",
    "#     e_losses.append(train_epoch(net, opt, loss_func))\n",
    "    \n",
    "# plt.plot(e_losses)\n",
    "print(e_losses)"
   ]
  },
  {
   "cell_type": "code",
   "execution_count": null,
   "metadata": {},
   "outputs": [],
   "source": []
  }
 ],
 "metadata": {
  "kernelspec": {
   "display_name": "Python 3",
   "language": "python",
   "name": "python3"
  },
  "language_info": {
   "codemirror_mode": {
    "name": "ipython",
    "version": 3
   },
   "file_extension": ".py",
   "mimetype": "text/x-python",
   "name": "python",
   "nbconvert_exporter": "python",
   "pygments_lexer": "ipython3",
   "version": "3.6.8"
  }
 },
 "nbformat": 4,
 "nbformat_minor": 2
}
