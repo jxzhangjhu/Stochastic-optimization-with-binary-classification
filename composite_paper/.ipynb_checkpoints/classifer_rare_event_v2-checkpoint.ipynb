{
 "cells": [
  {
   "cell_type": "markdown",
   "metadata": {},
   "source": [
    "# Data Collection"
   ]
  },
  {
   "cell_type": "code",
   "execution_count": 17,
   "metadata": {},
   "outputs": [
    {
     "name": "stdout",
     "output_type": "stream",
     "text": [
      "0.04829692840576172\n"
     ]
    },
    {
     "data": {
      "text/plain": [
       "(array([ 10.,  22.,  22.,  21.,  26.,  36.,  39.,  42.,  63.,  58.,  72.,\n",
       "         83.,  99., 102., 160., 554., 338., 224., 210., 168., 149., 165.,\n",
       "        145., 161., 145., 124., 140., 146., 138., 154., 146., 168., 194.,\n",
       "        200., 218., 302., 282., 275., 293., 294., 315., 299., 323., 297.,\n",
       "        278., 357., 324., 400., 447., 772.]),\n",
       " array([2.82563196, 2.88787867, 2.95012539, 3.01237211, 3.07461882,\n",
       "        3.13686554, 3.19911226, 3.26135898, 3.32360569, 3.38585241,\n",
       "        3.44809913, 3.51034585, 3.57259256, 3.63483928, 3.697086  ,\n",
       "        3.75933271, 3.82157943, 3.88382615, 3.94607287, 4.00831958,\n",
       "        4.0705663 , 4.13281302, 4.19505974, 4.25730645, 4.31955317,\n",
       "        4.38179989, 4.44404661, 4.50629332, 4.56854004, 4.63078676,\n",
       "        4.69303347, 4.75528019, 4.81752691, 4.87977363, 4.94202034,\n",
       "        5.00426706, 5.06651378, 5.1287605 , 5.19100721, 5.25325393,\n",
       "        5.31550065, 5.37774736, 5.43999408, 5.5022408 , 5.56448752,\n",
       "        5.62673423, 5.68898095, 5.75122767, 5.81347439, 5.8757211 ,\n",
       "        5.93796782]),\n",
       " <a list of 50 Patch objects>)"
      ]
     },
     "execution_count": 17,
     "metadata": {},
     "output_type": "execute_result"
    },
    {
     "data": {
      "image/png": "[encoded data removed]",
      "text/plain": [
       "<Figure size 432x288 with 1 Axes>"
      ]
     },
     "metadata": {
      "needs_background": "light"
     },
     "output_type": "display_data"
    }
   ],
   "source": [
    "from math import*\n",
    "import __main__\n",
    "global PI\n",
    "import os\n",
    "import time\n",
    "PI=float(acos(-1))\n",
    "\n",
    "import random\n",
    "import numpy as np\n",
    "import multiprocessing as mp\n",
    "\n",
    "import matplotlib.pyplot as plt\n",
    "from scipy.stats import norm\n",
    "from scipy.stats import lognorm\n",
    "\n",
    "%matplotlib inline\n",
    "\n",
    "rs_number = 123\n",
    "random.seed(rs_number)\n",
    "\n",
    "data_size = 10000;\n",
    "\n",
    "random_selection = 0\n",
    "\n",
    "if random_selection==0:\n",
    "    ''' random selection'''\n",
    "#     mu = [0,0]\n",
    "#     cov = [[1, 0], [0, 1]]\n",
    "#     datasets = np.random.multivariate_normal(mu, cov, data_size)\n",
    "    x0 = np.random.uniform(0,1,data_size)\n",
    "    x1 = np.random.uniform(0,1,data_size)\n",
    "    x = [x0, x1]\n",
    "    datasets = np.reshape(x,(data_size,2))\n",
    "else:\n",
    "    '''latin hypercube sampling'''\n",
    "\n",
    "# print(np.shape(datasets)) \n",
    "# plt.plot(datasets[:,0],datasets[:,1],'o')\n",
    "\n",
    "def ssh(X):\n",
    "    c = 4\n",
    "    g = c-X[0]/c + sin(c*X[0])-X[1]**10\n",
    "#     g = 0.7*norm.pdf(X,3,1) + 0.3*norm.pdf(X,6,1)\n",
    "#     g = 0.7*norm.ppf(X, loc=3, scale=1) + 0.3*norm.ppf(X, loc=10, scale=1)\n",
    "#     g = lognorm.ppf([0.001, 0.5, 0.999], X)\n",
    "    return g\n",
    "\n",
    "\n",
    "# map async parallel \n",
    "# pool = mp.Pool(mp.cpu_count())\n",
    "pool = mp.Pool(processes = 2)\n",
    "\n",
    "start = time.time()\n",
    "results_map = pool.map(ssh, datasets)\n",
    "end = time.time() \n",
    "print(end - start) #0.0037827491760253906\n",
    "\n",
    "# print(results_map)\n",
    "\n",
    "# # rare event probability\n",
    "# num = 0\n",
    "# for i in range(data_size):\n",
    "#     if results_map[i]<0:\n",
    "#         num = num+1\n",
    "\n",
    "# prob = num/data_size\n",
    "# print(prob)\n",
    "\n",
    "plt.hist(results_map,50)\n"
   ]
  },
  {
   "cell_type": "code",
   "execution_count": 18,
   "metadata": {},
   "outputs": [
    {
     "data": {
      "text/plain": [
       "(10000, 2)"
      ]
     },
     "execution_count": 18,
     "metadata": {},
     "output_type": "execute_result"
    }
   ],
   "source": [
    "datasets2 = np.reshape(datasets,(10000,2))\n",
    "np.shape(datasets2)\n",
    "# type(datasets)"
   ]
  },
  {
   "cell_type": "markdown",
   "metadata": {},
   "source": [
    "# Data classification and preprocessing"
   ]
  },
  {
   "cell_type": "code",
   "execution_count": 19,
   "metadata": {},
   "outputs": [
    {
     "name": "stdout",
     "output_type": "stream",
     "text": [
      "5.057158439163791\n"
     ]
    }
   ],
   "source": [
    "results_map_sort = sorted(results_map) # note that sorted change the sort but didn't change the original one\n",
    "# print(results_map_sort)\n",
    "median_value = results_map_sort[data_size//2]\n",
    "# median_value = 3.5\n",
    "print(median_value)\n",
    "\n",
    "results_map_new = np.zeros((data_size,1))\n",
    "output_scikit = np.zeros(data_size)\n",
    "\n",
    "for i in range(data_size):\n",
    "    if results_map[i] > median_value:\n",
    "        results_map_new[i,:] = 1\n",
    "        output_scikit[i] = 1\n",
    "    else:\n",
    "        results_map_new[i,:] = 0\n",
    "        output_scikit[i] = 0\n",
    "\n",
    "y_data = output_scikit"
   ]
  },
  {
   "cell_type": "markdown",
   "metadata": {},
   "source": [
    "# Training by classification "
   ]
  },
  {
   "cell_type": "code",
   "execution_count": 20,
   "metadata": {},
   "outputs": [
    {
     "name": "stdout",
     "output_type": "stream",
     "text": [
      "Iteration 1, loss = 0.47619032\n",
      "Iteration 2, loss = 0.18811926\n",
      "Iteration 3, loss = 0.11251697\n",
      "Iteration 4, loss = 0.08067745\n",
      "Iteration 5, loss = 0.06221638\n",
      "Iteration 6, loss = 0.04866887\n",
      "Iteration 7, loss = 0.04233051\n",
      "Iteration 8, loss = 0.03690843\n",
      "Iteration 9, loss = 0.03544329\n",
      "Iteration 10, loss = 0.03029973\n",
      "Iteration 11, loss = 0.03018303\n",
      "Iteration 12, loss = 0.02874868\n",
      "Iteration 13, loss = 0.02636057\n",
      "Iteration 14, loss = 0.02699004\n",
      "Iteration 15, loss = 0.02204358\n",
      "Iteration 16, loss = 0.02456073\n",
      "Iteration 17, loss = 0.02184679\n",
      "Iteration 18, loss = 0.02199879\n",
      "Iteration 19, loss = 0.01905180\n",
      "Iteration 20, loss = 0.01823145\n",
      "Iteration 21, loss = 0.03277687\n",
      "Iteration 22, loss = 0.02259201\n",
      "Iteration 23, loss = 0.01835643\n",
      "Iteration 24, loss = 0.01722777\n",
      "Iteration 25, loss = 0.02048631\n",
      "Iteration 26, loss = 0.02127488\n",
      "Iteration 27, loss = 0.01919625\n",
      "Iteration 28, loss = 0.01631939\n",
      "Iteration 29, loss = 0.01857149\n",
      "Iteration 30, loss = 0.01934227\n",
      "Iteration 31, loss = 0.01651883\n",
      "Iteration 32, loss = 0.01802740\n",
      "Iteration 33, loss = 0.01740754\n",
      "Iteration 34, loss = 0.01701035\n",
      "Iteration 35, loss = 0.01440351\n",
      "Iteration 36, loss = 0.01396944\n",
      "Iteration 37, loss = 0.01922102\n",
      "Iteration 38, loss = 0.02047236\n",
      "Iteration 39, loss = 0.01465200\n",
      "Iteration 40, loss = 0.01297682\n",
      "Iteration 41, loss = 0.01538191\n",
      "Iteration 42, loss = 0.01370028\n",
      "Iteration 43, loss = 0.01833311\n",
      "Iteration 44, loss = 0.01472689\n",
      "Iteration 45, loss = 0.01704732\n",
      "Iteration 46, loss = 0.01863473\n",
      "Iteration 47, loss = 0.01327332\n",
      "Iteration 48, loss = 0.01537799\n",
      "Iteration 49, loss = 0.01400264\n",
      "Iteration 50, loss = 0.01235931\n",
      "Iteration 51, loss = 0.01214593\n",
      "Iteration 52, loss = 0.01583321\n",
      "Iteration 53, loss = 0.01194624\n",
      "Iteration 54, loss = 0.01176697\n",
      "Iteration 55, loss = 0.01160162\n",
      "Iteration 56, loss = 0.00876045\n",
      "Iteration 57, loss = 0.01190621\n",
      "Iteration 58, loss = 0.01773017\n",
      "Iteration 59, loss = 0.01127509\n",
      "Iteration 60, loss = 0.01513821\n",
      "Iteration 61, loss = 0.01580391\n",
      "Iteration 62, loss = 0.02562339\n",
      "Iteration 63, loss = 0.01019468\n",
      "Iteration 64, loss = 0.01340400\n",
      "Iteration 65, loss = 0.01622147\n",
      "Iteration 66, loss = 0.01647861\n",
      "Iteration 67, loss = 0.01499320\n",
      "Training loss did not improve more than tol=0.000100 for 10 consecutive epochs. Stopping.\n",
      "Accuracy (train) for 99.5% \n"
     ]
    }
   ],
   "source": [
    "# scikit-learn MLP training \n",
    "from sklearn.neural_network import MLPClassifier\n",
    "from sklearn.datasets import fetch_mldata\n",
    "from sklearn import preprocessing\n",
    "from sklearn.model_selection import cross_val_score\n",
    "from sklearn.model_selection import train_test_split\n",
    "from sklearn.metrics import accuracy_score\n",
    "from sklearn.gaussian_process import GaussianProcessClassifier\n",
    "from sklearn.gaussian_process.kernels import RBF\n",
    "from sklearn.linear_model import LogisticRegression\n",
    "\n",
    "# preprocessing data scale? X is [1,10]\n",
    "trans_mean = np.mean(datasets)\n",
    "trans_std = np.std(datasets)\n",
    "\n",
    "data_scale = 2\n",
    "if data_scale==0:\n",
    "    X_data = preprocessing.scale(datasets)\n",
    "elif data_scale ==1:\n",
    "    min_max_scaler = preprocessing.MinMaxScaler(feature_range=(0, 1))\n",
    "    X_data = min_max_scaler.fit_transform(datasets)\n",
    "elif data_scale ==2:\n",
    "    scaler = preprocessing.StandardScaler().fit(datasets) # can be used for the following iteration \n",
    "    X_data = scaler.transform(datasets)  \n",
    "\n",
    "# sgd optimizer \n",
    "# mlp = MLPClassifier(solver='sgd', activation='relu',alpha=1e-4, hidden_layer_sizes=(128, 128),\n",
    "#                     random_state=1, max_iter=10000,verbose=True)\n",
    "\n",
    "mlp = MLPClassifier(solver='adam', activation='relu',alpha=1e-4, hidden_layer_sizes=(50,50,50,50),\n",
    "                    random_state=1, max_iter=1000,verbose=True,learning_rate = 'adaptive')\n",
    "\n",
    "# lbfgs - very slow \n",
    "# mlp = MLPClassifier(solver='lbfgs', activation='relu',alpha=1e-4,hidden_layer_sizes=(100,100),\n",
    "#                     random_state=1,max_iter=50,verbose=10,learning_rate_init=.1)\n",
    "# adam \n",
    "# mlp = MLPClassifier(solver='adam', activation='relu',alpha=1e-4,hidden_layer_sizes=(100,100),\n",
    "#                     random_state=1,max_iter=50,verbose=10,learning_rate_init=.1)\n",
    "\n",
    "# testing and training data \n",
    "X_train, X_test, y_train, y_test = train_test_split(X_data, y_data, test_size=0.2,random_state=rs_number)\n",
    "\n",
    "# training \n",
    "# kernel = 1.0 * RBF(1.0)\n",
    "# mlp = GaussianProcessClassifier(kernel=kernel,random_state=0).fit(X_train, y_train)\n",
    "# print(mlp,score(X_train, y_train))\n",
    "mlp.fit(X_train, y_train) \n",
    "\n",
    "# mlp = LogisticRegression(random_state=0, solver='lbfgs',multi_class='auto',verbose=1, n_jobs = 4).fit(X_train, y_train)\n",
    "\n",
    "#testing\n",
    "y_pred = mlp.predict(X_test)\n",
    "accuracy = accuracy_score(y_test, y_pred)\n",
    "print(\"Accuracy (train) for %0.1f%% \" % (accuracy * 100))\n",
    "\n",
    "# # cross-validation \n",
    "# score_cv = cross_val_score(mlp, X_data, y_data,cv=5)  \n",
    "# print(score_cv)\n",
    "\n",
    "## tuning hyperparameters \n",
    "\n",
    "# 10000 data, [0.84457771 0.854      0.8385     0.845      0.85992996], default\n",
    "# 10000 data, [0.82908546 0.835      0.8235     0.8185     0.82391196], feature[1,10] normalization 效果一般\n",
    "# 10000 data, [0.86206897 0.8605     0.8375     0.854      0.8154077 ], feature[0,1] normalization 效果一般\n",
    "# 10000 data, [0.84457771 0.854      0.8385     0.845      0.85992996], StandardScaler()"
   ]
  },
  {
   "cell_type": "markdown",
   "metadata": {},
   "source": [
    "# ML rank VS FEM rank"
   ]
  },
  {
   "cell_type": "code",
   "execution_count": 21,
   "metadata": {},
   "outputs": [
    {
     "name": "stdout",
     "output_type": "stream",
     "text": [
      "[892, 2693, 4845, 9621, 9858, 7349, 7852, 8759, 4429, 3641, 7578, 4595, 7525, 672, 1239, 7807, 9683, 4851, 6203, 3313]\n",
      "[9683, 4845, 1997, 892, 2663, 5792, 4429, 1898, 1273, 5827, 2065, 3338, 7994, 8114, 6139, 3748, 9988, 8602, 7533, 9696]\n"
     ]
    },
    {
     "data": {
      "text/plain": [
       "[<matplotlib.lines.Line2D at 0x1a1d7509b0>]"
      ]
     },
     "execution_count": 21,
     "metadata": {},
     "output_type": "execute_result"
    },
    {
     "data": {
      "image/png": "[encoded data removed]",
      "text/plain": [
       "<Figure size 480x480 with 1 Axes>"
      ]
     },
     "metadata": {},
     "output_type": "display_data"
    }
   ],
   "source": [
    "sort_index_FEM = np.argsort(results_map)\n",
    "probs = mlp.predict_proba(X_data)\n",
    "# print(probs)\n",
    "sort_index_mlp = np.argsort(probs[:][:,1])\n",
    "\n",
    "sort_FEM = sort_index_FEM.tolist()\n",
    "sort_mlp = sort_index_mlp.tolist()\n",
    "\n",
    "print(sort_FEM[0:20])\n",
    "print(sort_mlp[0:20])\n",
    "\n",
    "rank_mlp = []\n",
    "for j in range(data_size):\n",
    "    rank_fem = sort_FEM[j]\n",
    "    rank_mlp0 = sort_mlp.index(rank_fem)\n",
    "#     print(rank_mlp0)\n",
    "    rank_mlp.append(rank_mlp0)\n",
    "\n",
    "\n",
    "plt.figure(num=None, figsize=(6, 6), dpi=80, facecolor='w', edgecolor='k')\n",
    "plt.plot(range(data_size),rank_mlp,'.')\n"
   ]
  },
  {
   "cell_type": "code",
   "execution_count": null,
   "metadata": {},
   "outputs": [],
   "source": []
  }
 ],
 "metadata": {
  "kernelspec": {
   "display_name": "Python 3",
   "language": "python",
   "name": "python3"
  },
  "language_info": {
   "codemirror_mode": {
    "name": "ipython",
    "version": 3
   },
   "file_extension": ".py",
   "mimetype": "text/x-python",
   "name": "python",
   "nbconvert_exporter": "python",
   "pygments_lexer": "ipython3",
   "version": "3.6.8"
  }
 },
 "nbformat": 4,
 "nbformat_minor": 2
}
