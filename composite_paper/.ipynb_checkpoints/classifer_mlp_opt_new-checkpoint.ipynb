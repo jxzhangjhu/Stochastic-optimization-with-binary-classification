{
 "cells": [
  {
   "cell_type": "markdown",
   "metadata": {},
   "source": [
    "# Data Collection"
   ]
  },
  {
   "cell_type": "code",
   "execution_count": 6,
   "metadata": {},
   "outputs": [
    {
     "name": "stdout",
     "output_type": "stream",
     "text": [
      "34.65398120880127\n"
     ]
    },
    {
     "data": {
      "text/plain": [
       "(array([  1.,   0.,   0.,   0.,   0.,   0.,   0.,   0.,   0.,   0.,   1.,\n",
       "          0.,   1.,   1.,   0.,   1.,   1.,   5.,   4.,   1.,  10.,  13.,\n",
       "         16.,  21.,  32.,  42.,  45.,  62.,  78.,  82., 111., 130., 125.,\n",
       "        164., 201., 300., 309., 325., 469., 471., 546., 600., 674., 792.,\n",
       "        880., 872., 892., 807., 646., 269.]),\n",
       " array([-0.01880914, -0.01848238, -0.01815563, -0.01782888, -0.01750213,\n",
       "        -0.01717538, -0.01684862, -0.01652187, -0.01619512, -0.01586837,\n",
       "        -0.01554161, -0.01521486, -0.01488811, -0.01456136, -0.01423461,\n",
       "        -0.01390785, -0.0135811 , -0.01325435, -0.0129276 , -0.01260085,\n",
       "        -0.01227409, -0.01194734, -0.01162059, -0.01129384, -0.01096708,\n",
       "        -0.01064033, -0.01031358, -0.00998683, -0.00966008, -0.00933332,\n",
       "        -0.00900657, -0.00867982, -0.00835307, -0.00802631, -0.00769956,\n",
       "        -0.00737281, -0.00704606, -0.00671931, -0.00639255, -0.0060658 ,\n",
       "        -0.00573905, -0.0054123 , -0.00508555, -0.00475879, -0.00443204,\n",
       "        -0.00410529, -0.00377854, -0.00345178, -0.00312503, -0.00279828,\n",
       "        -0.00247153]),\n",
       " <a list of 50 Patch objects>)"
      ]
     },
     "execution_count": 6,
     "metadata": {},
     "output_type": "execute_result"
    },
    {
     "data": {
      "image/png": "[encoded data removed]",
      "text/plain": [
       "<Figure size 432x288 with 1 Axes>"
      ]
     },
     "metadata": {
      "needs_background": "light"
     },
     "output_type": "display_data"
    }
   ],
   "source": [
    "from math import*\n",
    "import __main__\n",
    "global PI\n",
    "import os\n",
    "import time\n",
    "PI=float(acos(-1))\n",
    "\n",
    "import random\n",
    "import numpy as np\n",
    "import multiprocessing as mp\n",
    "\n",
    "import matplotlib.pyplot as plt\n",
    "%matplotlib inline\n",
    "\n",
    "rs_number = 123\n",
    "random.seed(rs_number)\n",
    "\n",
    "data_size = 100000;\n",
    "\n",
    "random_selection = 0\n",
    "\n",
    "if random_selection==0:\n",
    "    ''' random selection'''\n",
    "    datasets = np.random.randint(1, 10, size=[data_size, 8])\n",
    "#     data_input = arr.tolist()\n",
    "#     datasets = arr\n",
    "else:\n",
    "    '''latin hypercube sampling'''\n",
    "\n",
    "\n",
    "def ssh(num):\n",
    "#     global datasets\n",
    "#     arr = np.random.randint(1, 10, size=[data_size, 8])\n",
    "#     datasets = arr.tolist()\n",
    "    ply_angle = datasets[num]\n",
    "    \n",
    "    bas_ply=[-60, -45, -30, -15, 0, 15, 30, 45, 60, 90]\n",
    "\n",
    "    AA1=bas_ply[ply_angle[0]]\n",
    "    AA2=bas_ply[ply_angle[1]]\n",
    "    AA3=bas_ply[ply_angle[2]]\n",
    "    AA4=bas_ply[ply_angle[3]]\n",
    "    AA5=bas_ply[ply_angle[4]]\n",
    "    AA6=bas_ply[ply_angle[5]]\n",
    "    AA7=bas_ply[ply_angle[6]]\n",
    "    AA8=bas_ply[ply_angle[7]]\n",
    "\n",
    "    ### ply stacking sequence###\n",
    "    AAA=[AA1/180.0*PI,AA2/180.0*PI,AA3/180.0*PI,AA4/180.0*PI,AA5/180.0*PI,AA6/180.0*PI,AA7/180.0*PI,AA8/180.0*PI,AA8/180.0*PI,AA7/180.0*PI,AA6/180.0*PI,AA5/180.0*PI,AA4/180.0*PI,AA3/180.0*PI,AA2/180.0*PI,AA1/180.0*PI]\n",
    "    pi=3.14159265358979\n",
    "\n",
    "    R=250.0   ##  radius##\n",
    "    H=510.0   ##  Height##\n",
    "    td=0.125  #layer thickness##\n",
    "\n",
    "    TTT=[-td*8,-td*7,-td*6,-td*5,-td*4,-td*3,-td*2,-td*1,td*0,td*1,td*2,td*3,td*4,td*5,td*6,td*7,td*8]\n",
    "\n",
    "    ###material property###\n",
    "\n",
    "    E1=123550.0  \n",
    "    E2=8707.9\n",
    "    G12=5695.0\n",
    "    miu12=0.31946\n",
    "\n",
    "    miu21=miu12*E2/E1\n",
    "    Q11=E1/(1-miu12*miu21)\n",
    "    Q12=miu21*E1/(1-miu12*miu21)\n",
    "    Q22=E2/(1-miu12*miu21)\n",
    "    Q66=G12\n",
    "\n",
    "    A11=0.0\n",
    "    A12=0.0\n",
    "    A22=0.0\n",
    "    A66=0.0\n",
    "\n",
    "    D11=0.0\n",
    "    D12=0.0\n",
    "    D22=0.0\n",
    "    D66=0.0\n",
    "\n",
    "    for i in range(0,16):\n",
    "        A11=A11+(Q11*cos(AAA[i])**4+2*(Q12+2*Q66)*sin(AAA[i])**2*cos(AAA[i])**2+Q22*sin(AAA[i])**4)*(TTT[i+1]-TTT[i])\n",
    "        A12=A12+((Q11+Q22-4*Q66)*sin(AAA[i])**2*cos(AAA[i])**2+Q12*(sin(AAA[i])**4+cos(AAA[i])**4))*(TTT[i+1]-TTT[i])\n",
    "        A22=A22+(Q11*sin(AAA[i])**4+2*(Q12+2*Q66)*sin(AAA[i])**2*cos(AAA[i])**2+Q22*cos(AAA[i])**4)*(TTT[i+1]-TTT[i])\n",
    "        A66=A66+((Q11+Q22-2*Q12-2*Q66)*sin(AAA[i])**2*cos(AAA[i])**2+Q66*(sin(AAA[i])**4+cos(AAA[i])**4))*(TTT[i+1]-TTT[i])\n",
    "        D11=D11+(Q11*cos(AAA[i])**4+2*(Q12+2*Q66)*sin(AAA[i])**2*cos(AAA[i])**2+Q22*sin(AAA[i])**4)*(TTT[i+1]**3-TTT[i]**3)/3.0\n",
    "        D12=D12+((Q11+Q22-4*Q66)*sin(AAA[i])**2*cos(AAA[i])**2+Q12*(sin(AAA[i])**4+cos(AAA[i])**4))*(TTT[i+1]**3-TTT[i]**3)/3.0\n",
    "        D22=D22+(Q11*sin(AAA[i])**4+2*(Q12+2*Q66)*sin(AAA[i])**2*cos(AAA[i])**2+Q22*cos(AAA[i])**4)*(TTT[i+1]**3-TTT[i]**3)/3.0\n",
    "        D66=D66+((Q11+Q22-2*Q12-2*Q66)*sin(AAA[i])**2*cos(AAA[i])**2+Q66*(sin(AAA[i])**4+cos(AAA[i])**4))*(TTT[i+1]**3-TTT[i]**3)/3.0\n",
    "\n",
    "    #####bianliang########\n",
    "\n",
    "    D= 2*R\n",
    "    L= H\n",
    "\n",
    "    #xian\n",
    "    a=[[A11,A12,0],[A12,A22,0],[0,0,A66]]\n",
    "    b=[[0,0,0],[0,0,0],[0,0,0]]\n",
    "    d=[[D11,D12,0],[D12,D22,0],[0,0,D66]]\n",
    "\n",
    "    alpha=PI/L\n",
    "    beta=2/D\n",
    "\n",
    "    mm=50\n",
    "    nn=50\n",
    "    kmm=0\n",
    "    knn=0\n",
    "    kmm11=0\n",
    "    knn11=0\n",
    "    F=[[0 for col in range(nn)] for row in range(mm)]\n",
    "    Fcr=1e16\n",
    "\n",
    "    for m in range(1,mm+1):\n",
    "        for n in range(1,nn+1):\n",
    "            xi11=2*a[0][0]*(m*alpha)**2+2*a[2][2]*(n*beta)**2\n",
    "            xi12=2*(a[0][1]+a[2][2])*m*alpha*n*beta\n",
    "            xi13=4*a[0][1]*m*alpha/D-2*b[0][0]*(m*alpha)**3-2*(b[0][1]+2*b[2][2])*m*alpha*(n*beta)**2\n",
    "            xi22=2*a[1][1]*(n*beta)**2+2*a[2][2]*(m*alpha)**2\n",
    "            xi23=4*a[1][1]*n*beta/D-2*b[1][1]*(n*beta)**3-2*(b[0][1]+2*b[2][2])*(m*alpha)**2*n*beta\n",
    "            xi33=4*(d[0][1]+2*d[2][2])*(m*alpha*n*beta)**2+8*a[1][1]/(D**2)\\\n",
    "            +2*d[0][0]*(m*alpha)**4+2*d[1][1]*(n*beta)**4-8*(b[1][1]*(n*beta)**2+b[0][1]*(m*alpha)**2)/D\n",
    "            xi21=xi12\n",
    "            xi31=xi13\n",
    "            xi32=xi23\n",
    "            det1=xi11*(xi22*xi33-xi32*xi23)-xi12*(xi21*xi33-xi31*xi23)+xi13*(xi21*xi32-xi31*xi22)\n",
    "            det2=xi11*xi22-xi21*xi12\n",
    "            Nx=det1/det2/(2*((m*alpha)**2))\n",
    "            F[m-1][n-1]=Nx*PI*D\n",
    "            if Fcr>F[m-1][n-1]:\n",
    "              Fcr=F[m-1][n-1]\n",
    "              kmm=m\n",
    "              knn=2*n\n",
    "\n",
    "    for m in range(1,mm+1):\n",
    "        xi11=2*a[0][0]*(m*alpha)**2\n",
    "        xi12=0\n",
    "        xi13=4*a[0][1]*m*alpha/D-2*b[0][0]*(m*alpha)**3\n",
    "        xi22=2*a[2][2]*(m*alpha)**2\n",
    "        xi23=0\n",
    "        xi33=8*a[1][1]/(D**2)+2*d[0][0]*(m*alpha)**4-8*b[0][1]*(m*alpha)**2/D\n",
    "        xi21=xi12\n",
    "        xi31=xi13\n",
    "        xi32=xi23\n",
    "        det1=xi11*(xi22*xi33-xi32*xi23)-xi12*(xi21*xi33-xi31*xi23)+xi13*(xi21*xi32-xi31*xi22)\n",
    "        det2=xi11*xi22-xi21*xi12\n",
    "        Nx=det1/det2/(2*((m*alpha)**2))\n",
    "        Fn1=Nx*PI*D\n",
    "        if Fcr>Fn1:\n",
    "          Fcr=Fn1\n",
    "          kmm=m\n",
    "          knn=1\n",
    "\n",
    "    return -1.0/(Fcr/100000)**3\n",
    "\n",
    "# map async parallel \n",
    "# pool = mp.Pool(mp.cpu_count())\n",
    "pool = mp.Pool(processes = 8)\n",
    "\n",
    "start = time.time()\n",
    "Fcr_ori = pool.map(ssh, range(data_size))\n",
    "end = time.time() \n",
    "print(end - start) #0.0037827491760253906\n",
    "# pool.close()\n",
    "# print(results_map)\n",
    "# Fcr_min = min(Fcr_ori)\n",
    "# results_map = []\n",
    "# for j in range(data_size):\n",
    "#     results_map.append(Fcr_ori[j]/Fcr_min)\n",
    "    \n",
    "results_map = Fcr_ori\n",
    "# plt.figure()\n",
    "# plt.hist(results_map,50)\n",
    "plt.figure()\n",
    "plt.hist(Fcr_ori,50)"
   ]
  },
  {
   "cell_type": "markdown",
   "metadata": {},
   "source": [
    "# Data classification and preprocessing"
   ]
  },
  {
   "cell_type": "code",
   "execution_count": 7,
   "metadata": {},
   "outputs": [
    {
     "name": "stdout",
     "output_type": "stream",
     "text": [
      "-0.004686607610722179\n"
     ]
    }
   ],
   "source": [
    "results_map_sort = sorted(results_map) # note that sorted change the sort but didn't change the original one\n",
    "# print(results_map_sort)\n",
    "median_value = results_map_sort[data_size//2]\n",
    "print(median_value)\n",
    "\n",
    "results_map_new = np.zeros((data_size,1))\n",
    "output_scikit = np.zeros(data_size)\n",
    "\n",
    "for i in range(data_size):\n",
    "    if results_map[i] > median_value:\n",
    "        results_map_new[i,:] = 1\n",
    "        output_scikit[i] = 1\n",
    "    else:\n",
    "        results_map_new[i,:] = 0\n",
    "        output_scikit[i] = 0\n",
    "\n",
    "y_data = output_scikit"
   ]
  },
  {
   "cell_type": "markdown",
   "metadata": {},
   "source": [
    "# Training by classification "
   ]
  },
  {
   "cell_type": "code",
   "execution_count": 12,
   "metadata": {},
   "outputs": [
    {
     "name": "stderr",
     "output_type": "stream",
     "text": [
      "/Users/jiaxinzhang/anaconda3/lib/python3.6/site-packages/sklearn/utils/validation.py:595: DataConversionWarning: Data with input dtype int64 was converted to float64 by StandardScaler.\n",
      "  warnings.warn(msg, DataConversionWarning)\n",
      "/Users/jiaxinzhang/anaconda3/lib/python3.6/site-packages/sklearn/utils/validation.py:595: DataConversionWarning: Data with input dtype int64 was converted to float64 by StandardScaler.\n",
      "  warnings.warn(msg, DataConversionWarning)\n"
     ]
    },
    {
     "name": "stdout",
     "output_type": "stream",
     "text": [
      "Iteration 1, loss = 0.61275682\n",
      "Iteration 2, loss = 0.56307472\n",
      "Iteration 3, loss = 0.52638524\n",
      "Iteration 4, loss = 0.49306540\n",
      "Iteration 5, loss = 0.46590283\n",
      "Iteration 6, loss = 0.44927007\n",
      "Iteration 7, loss = 0.42192393\n",
      "Iteration 8, loss = 0.40684667\n",
      "Iteration 9, loss = 0.38716178\n",
      "Iteration 10, loss = 0.37903833\n",
      "Iteration 11, loss = 0.36099967\n",
      "Iteration 12, loss = 0.35149781\n",
      "Iteration 13, loss = 0.33849483\n",
      "Iteration 14, loss = 0.32555171\n",
      "Iteration 15, loss = 0.31710133\n",
      "Iteration 16, loss = 0.31783667\n",
      "Iteration 17, loss = 0.30011823\n",
      "Iteration 18, loss = 0.29283754\n",
      "Iteration 19, loss = 0.28239813\n",
      "Iteration 20, loss = 0.27645328\n",
      "Iteration 21, loss = 0.27075643\n",
      "Iteration 22, loss = 0.26158509\n",
      "Iteration 23, loss = 0.25980652\n",
      "Iteration 24, loss = 0.25210071\n",
      "Iteration 25, loss = 0.24375590\n",
      "Iteration 26, loss = 0.24345295\n",
      "Iteration 27, loss = 0.23781449\n",
      "Iteration 28, loss = 0.22909942\n",
      "Iteration 29, loss = 0.22211416\n",
      "Iteration 30, loss = 0.22793522\n",
      "Iteration 31, loss = 0.21875931\n",
      "Iteration 32, loss = 0.21444068\n",
      "Iteration 33, loss = 0.21516308\n",
      "Iteration 34, loss = 0.20100283\n",
      "Iteration 35, loss = 0.19940749\n",
      "Iteration 36, loss = 0.20029675\n",
      "Iteration 37, loss = 0.19102465\n",
      "Iteration 38, loss = 0.18156442\n",
      "Iteration 39, loss = 0.18050752\n",
      "Iteration 40, loss = 0.18573703\n",
      "Iteration 41, loss = 0.20777641\n",
      "Iteration 42, loss = 0.18152033\n",
      "Iteration 43, loss = 0.16242623\n",
      "Iteration 44, loss = 0.15892997\n",
      "Iteration 45, loss = 0.15805921\n",
      "Iteration 46, loss = 0.16130130\n",
      "Iteration 47, loss = 0.15466529\n",
      "Iteration 48, loss = 0.15217164\n",
      "Iteration 49, loss = 0.15582774\n",
      "Iteration 50, loss = 0.14453464\n",
      "Iteration 51, loss = 0.14179688\n",
      "Iteration 52, loss = 0.13508272\n",
      "Iteration 53, loss = 0.13216761\n",
      "Iteration 54, loss = 0.12900579\n",
      "Iteration 55, loss = 0.13206773\n",
      "Iteration 56, loss = 0.12961036\n",
      "Iteration 57, loss = 0.13537922\n",
      "Iteration 58, loss = 0.12690910\n",
      "Iteration 59, loss = 0.11633726\n",
      "Iteration 60, loss = 0.12006717\n",
      "Iteration 61, loss = 0.11360431\n",
      "Iteration 62, loss = 0.12015401\n",
      "Iteration 63, loss = 0.11269932\n",
      "Iteration 64, loss = 0.11568906\n",
      "Iteration 65, loss = 0.10905516\n",
      "Iteration 66, loss = 0.09919934\n",
      "Iteration 67, loss = 0.10709051\n",
      "Iteration 68, loss = 0.09898839\n",
      "Iteration 69, loss = 0.09574125\n",
      "Iteration 70, loss = 0.09501193\n",
      "Iteration 71, loss = 0.09000916\n",
      "Iteration 72, loss = 0.09610956\n",
      "Iteration 73, loss = 0.09687720\n",
      "Iteration 74, loss = 0.09065149\n",
      "Iteration 75, loss = 0.09059491\n",
      "Iteration 76, loss = 0.08084518\n",
      "Iteration 77, loss = 0.07416018\n",
      "Iteration 78, loss = 0.06891457\n",
      "Iteration 79, loss = 0.07118752\n",
      "Iteration 80, loss = 0.07409350\n",
      "Iteration 81, loss = 0.06945844\n",
      "Iteration 82, loss = 0.06961789\n",
      "Iteration 83, loss = 0.06769596\n",
      "Iteration 84, loss = 0.07296129\n",
      "Iteration 85, loss = 0.06150644\n",
      "Iteration 86, loss = 0.06180277\n",
      "Iteration 87, loss = 0.06079397\n",
      "Iteration 88, loss = 0.05943618\n",
      "Iteration 89, loss = 0.05805954\n",
      "Iteration 90, loss = 0.05728039\n",
      "Iteration 91, loss = 0.06163655\n",
      "Iteration 92, loss = 0.05137053\n",
      "Iteration 93, loss = 0.05881966\n",
      "Iteration 94, loss = 0.05744110\n",
      "Iteration 95, loss = 0.04693475\n",
      "Iteration 96, loss = 0.04953351\n",
      "Iteration 97, loss = 0.05190655\n",
      "Iteration 98, loss = 0.04899548\n",
      "Iteration 99, loss = 0.05002652\n",
      "Iteration 100, loss = 0.04771292\n",
      "Iteration 101, loss = 0.04576309\n",
      "Iteration 102, loss = 0.05624935\n",
      "Iteration 103, loss = 0.04147259\n",
      "Iteration 104, loss = 0.03772114\n",
      "Iteration 105, loss = 0.03809617\n",
      "Iteration 106, loss = 0.04082513\n",
      "Iteration 107, loss = 0.03428739\n",
      "Iteration 108, loss = 0.03348416\n",
      "Iteration 109, loss = 0.02854970\n",
      "Iteration 110, loss = 0.03513846\n",
      "Iteration 111, loss = 0.03644262\n",
      "Iteration 112, loss = 0.03370384\n",
      "Iteration 113, loss = 0.02936341\n",
      "Iteration 114, loss = 0.03822728\n",
      "Iteration 115, loss = 0.03221710\n",
      "Iteration 116, loss = 0.02676103\n",
      "Iteration 117, loss = 0.02182586\n",
      "Iteration 118, loss = 0.01999577\n",
      "Iteration 119, loss = 0.02147965\n",
      "Iteration 120, loss = 0.02594639\n",
      "Iteration 121, loss = 0.02099200\n",
      "Iteration 122, loss = 0.02100739\n",
      "Iteration 123, loss = 0.02437012\n",
      "Iteration 124, loss = 0.02175921\n",
      "Iteration 125, loss = 0.01694567\n",
      "Iteration 126, loss = 0.01417355\n",
      "Iteration 127, loss = 0.01415403\n",
      "Iteration 128, loss = 0.01583167\n",
      "Iteration 129, loss = 0.01673971\n",
      "Iteration 130, loss = 0.01771116\n",
      "Iteration 131, loss = 0.01642678\n",
      "Iteration 132, loss = 0.01660368\n",
      "Iteration 133, loss = 0.02073858\n",
      "Iteration 134, loss = 0.03452633\n",
      "Iteration 135, loss = 0.09958816\n",
      "Iteration 136, loss = 0.09367031\n",
      "Iteration 137, loss = 0.04108154\n",
      "Training loss did not improve more than tol=0.000100 for 10 consecutive epochs. Stopping.\n",
      "Accuracy (train) for 84.4% \n"
     ]
    }
   ],
   "source": [
    "# scikit-learn MLP training \n",
    "from sklearn.neural_network import MLPClassifier\n",
    "from sklearn.datasets import fetch_mldata\n",
    "from sklearn import preprocessing\n",
    "from sklearn.model_selection import cross_val_score\n",
    "from sklearn.model_selection import train_test_split\n",
    "from sklearn.metrics import accuracy_score\n",
    "\n",
    "# preprocessing data scale? X is [1,10]\n",
    "trans_mean = np.mean(datasets)\n",
    "trans_std = np.std(datasets)\n",
    "\n",
    "data_scale = 2\n",
    "if data_scale==0:\n",
    "    X_data = preprocessing.scale(datasets)\n",
    "elif data_scale ==1:\n",
    "    min_max_scaler = preprocessing.MinMaxScaler(feature_range=(0, 1))\n",
    "    X_data = min_max_scaler.fit_transform(datasets)\n",
    "elif data_scale ==2:\n",
    "    scaler = preprocessing.StandardScaler().fit(datasets) # can be used for the following iteration \n",
    "    X_data = scaler.transform(datasets)  \n",
    "\n",
    "# sgd optimizer \n",
    "# mlp = MLPClassifier(solver='sgd', activation='relu',alpha=1e-4, hidden_layer_sizes=(128, 128),\n",
    "#                     random_state=1, max_iter=10000,verbose=True)\n",
    "\n",
    "mlp = MLPClassifier(solver='adam', activation='relu',alpha=1e-4, hidden_layer_sizes=(128, 128),\n",
    "                    random_state=1, max_iter=1000,verbose=True,learning_rate = 'adaptive')\n",
    "\n",
    "# lbfgs - very slow \n",
    "# mlp = MLPClassifier(solver='lbfgs', activation='relu',alpha=1e-4,hidden_layer_sizes=(100,100),\n",
    "#                     random_state=1,max_iter=50,verbose=10,learning_rate_init=.1)\n",
    "# adam \n",
    "# mlp = MLPClassifier(solver='adam', activation='relu',alpha=1e-4,hidden_layer_sizes=(100,100),\n",
    "#                     random_state=1,max_iter=50,verbose=10,learning_rate_init=.1)\n",
    "\n",
    "# testing and training data \n",
    "X_train, X_test, y_train, y_test = train_test_split(X_data, y_data, test_size=0.2,random_state=rs_number)\n",
    "\n",
    "# training \n",
    "mlp.fit(X_train, y_train) \n",
    "\n",
    "#testing\n",
    "y_pred = mlp.predict(X_test)\n",
    "accuracy = accuracy_score(y_test, y_pred)\n",
    "print(\"Accuracy (train) for %0.1f%% \" % (accuracy * 100))\n",
    "\n",
    "# # cross-validation \n",
    "# score_cv = cross_val_score(mlp, X_data, y_data,cv=5)  \n",
    "# print(score_cv)\n",
    "\n",
    "## tuning hyperparameters \n",
    "\n",
    "# 10000 data, [0.84457771 0.854      0.8385     0.845      0.85992996], default\n",
    "# 10000 data, [0.82908546 0.835      0.8235     0.8185     0.82391196], feature[1,10] normalization 效果一般\n",
    "# 10000 data, [0.86206897 0.8605     0.8375     0.854      0.8154077 ], feature[0,1] normalization 效果一般\n",
    "# 10000 data, [0.84457771 0.854      0.8385     0.845      0.85992996], StandardScaler()"
   ]
  },
  {
   "cell_type": "markdown",
   "metadata": {},
   "source": [
    "# ML rank VS FEM rank"
   ]
  },
  {
   "cell_type": "code",
   "execution_count": 13,
   "metadata": {},
   "outputs": [
    {
     "data": {
      "text/plain": [
       "[<matplotlib.lines.Line2D at 0x1a1cc93f98>]"
      ]
     },
     "execution_count": 13,
     "metadata": {},
     "output_type": "execute_result"
    },
    {
     "data": {
      "image/png": "[encoded data removed]",
      "text/plain": [
       "<Figure size 432x288 with 1 Axes>"
      ]
     },
     "metadata": {
      "needs_background": "light"
     },
     "output_type": "display_data"
    }
   ],
   "source": [
    "sort_index_FEM = np.argsort(results_map)\n",
    "probs = mlp.predict_proba(X_data)\n",
    "sort_index_mlp = np.argsort(probs[:][:,1])\n",
    "\n",
    "sort_FEM = sort_index_FEM.tolist()\n",
    "sort_mlp = sort_index_mlp.tolist()\n",
    "\n",
    "rank_mlp = []\n",
    "for j in range(data_size):\n",
    "    rank_fem = sort_FEM[j]\n",
    "    rank_mlp0 = sort_mlp.index(rank_fem)\n",
    "    rank_mlp.append(rank_mlp0)\n",
    "\n",
    "\n",
    "plt.figure()\n",
    "plt.plot(range(data_size),rank_mlp,'.')"
   ]
  },
  {
   "cell_type": "markdown",
   "metadata": {},
   "source": [
    "# Stochastic Optimization "
   ]
  },
  {
   "cell_type": "code",
   "execution_count": 15,
   "metadata": {},
   "outputs": [
    {
     "name": "stdout",
     "output_type": "stream",
     "text": [
      "0\n"
     ]
    },
    {
     "name": "stderr",
     "output_type": "stream",
     "text": [
      "/Users/jiaxinzhang/anaconda3/lib/python3.6/site-packages/sklearn/utils/validation.py:595: DataConversionWarning: Data with input dtype int64 was converted to float64 by StandardScaler.\n",
      "  warnings.warn(msg, DataConversionWarning)\n"
     ]
    },
    {
     "name": "stdout",
     "output_type": "stream",
     "text": [
      "1\n"
     ]
    },
    {
     "name": "stderr",
     "output_type": "stream",
     "text": [
      "/Users/jiaxinzhang/anaconda3/lib/python3.6/site-packages/sklearn/utils/validation.py:595: DataConversionWarning: Data with input dtype int64 was converted to float64 by StandardScaler.\n",
      "  warnings.warn(msg, DataConversionWarning)\n"
     ]
    },
    {
     "name": "stdout",
     "output_type": "stream",
     "text": [
      "2\n"
     ]
    },
    {
     "name": "stderr",
     "output_type": "stream",
     "text": [
      "/Users/jiaxinzhang/anaconda3/lib/python3.6/site-packages/sklearn/utils/validation.py:595: DataConversionWarning: Data with input dtype int64 was converted to float64 by StandardScaler.\n",
      "  warnings.warn(msg, DataConversionWarning)\n"
     ]
    },
    {
     "name": "stdout",
     "output_type": "stream",
     "text": [
      "3\n"
     ]
    },
    {
     "name": "stderr",
     "output_type": "stream",
     "text": [
      "/Users/jiaxinzhang/anaconda3/lib/python3.6/site-packages/sklearn/utils/validation.py:595: DataConversionWarning: Data with input dtype int64 was converted to float64 by StandardScaler.\n",
      "  warnings.warn(msg, DataConversionWarning)\n"
     ]
    },
    {
     "name": "stdout",
     "output_type": "stream",
     "text": [
      "4\n"
     ]
    },
    {
     "name": "stderr",
     "output_type": "stream",
     "text": [
      "/Users/jiaxinzhang/anaconda3/lib/python3.6/site-packages/sklearn/utils/validation.py:595: DataConversionWarning: Data with input dtype int64 was converted to float64 by StandardScaler.\n",
      "  warnings.warn(msg, DataConversionWarning)\n"
     ]
    },
    {
     "name": "stdout",
     "output_type": "stream",
     "text": [
      "5\n"
     ]
    },
    {
     "name": "stderr",
     "output_type": "stream",
     "text": [
      "/Users/jiaxinzhang/anaconda3/lib/python3.6/site-packages/sklearn/utils/validation.py:595: DataConversionWarning: Data with input dtype int64 was converted to float64 by StandardScaler.\n",
      "  warnings.warn(msg, DataConversionWarning)\n"
     ]
    },
    {
     "name": "stdout",
     "output_type": "stream",
     "text": [
      "6\n"
     ]
    },
    {
     "name": "stderr",
     "output_type": "stream",
     "text": [
      "/Users/jiaxinzhang/anaconda3/lib/python3.6/site-packages/sklearn/utils/validation.py:595: DataConversionWarning: Data with input dtype int64 was converted to float64 by StandardScaler.\n",
      "  warnings.warn(msg, DataConversionWarning)\n"
     ]
    },
    {
     "name": "stdout",
     "output_type": "stream",
     "text": [
      "7\n"
     ]
    },
    {
     "name": "stderr",
     "output_type": "stream",
     "text": [
      "/Users/jiaxinzhang/anaconda3/lib/python3.6/site-packages/sklearn/utils/validation.py:595: DataConversionWarning: Data with input dtype int64 was converted to float64 by StandardScaler.\n",
      "  warnings.warn(msg, DataConversionWarning)\n"
     ]
    },
    {
     "name": "stdout",
     "output_type": "stream",
     "text": [
      "8\n"
     ]
    },
    {
     "name": "stderr",
     "output_type": "stream",
     "text": [
      "/Users/jiaxinzhang/anaconda3/lib/python3.6/site-packages/sklearn/utils/validation.py:595: DataConversionWarning: Data with input dtype int64 was converted to float64 by StandardScaler.\n",
      "  warnings.warn(msg, DataConversionWarning)\n"
     ]
    },
    {
     "name": "stdout",
     "output_type": "stream",
     "text": [
      "9\n"
     ]
    },
    {
     "name": "stderr",
     "output_type": "stream",
     "text": [
      "/Users/jiaxinzhang/anaconda3/lib/python3.6/site-packages/sklearn/utils/validation.py:595: DataConversionWarning: Data with input dtype int64 was converted to float64 by StandardScaler.\n",
      "  warnings.warn(msg, DataConversionWarning)\n"
     ]
    }
   ],
   "source": [
    "# multiple loop training but no call FEM data collection \n",
    "\n",
    "loop = 10\n",
    "X_loop = X_data # scale data, 50000\n",
    "X_ori = datasets # orial data, 50000\n",
    "\n",
    "for i in range(loop):\n",
    "    print(i)\n",
    "    # classification probability \n",
    "    probs_all = mlp.predict_proba(X_loop)\n",
    "    sort_index_mlp = np.argsort(probs_all[:][:,1])\n",
    "\n",
    "    # top 10% selection \n",
    "    top_10 = X_loop[sort_index_mlp[int(data_size*0.9):data_size]]\n",
    "    top_10_ori = X_ori[sort_index_mlp[int(data_size*0.9):data_size]]\n",
    "#     print(top_10_ori)\n",
    "\n",
    "    # random selection 90%\n",
    "    if random_selection==0:\n",
    "        ''' random selection'''\n",
    "        data_random = np.random.randint(1, 10, size=[int(data_size*0.9), 8])\n",
    "    else:\n",
    "        '''latin hypercube sampling'''\n",
    "\n",
    "    X_90_scale = scaler.transform(data_random) \n",
    "    X_90_ori = data_random\n",
    "    X_loop = np.concatenate((X_90_scale, top_10), axis=0)\n",
    "    X_ori = np.concatenate((X_90_ori, top_10_ori), axis=0)\n",
    "    "
   ]
  },
  {
   "cell_type": "code",
   "execution_count": 16,
   "metadata": {},
   "outputs": [],
   "source": [
    "datasets_test = top_10_ori\n",
    "\n",
    "def ssh_test(num):\n",
    "#     global datasets\n",
    "#     arr = np.random.randint(1, 10, size=[data_size, 8])\n",
    "#     datasets = arr.tolist()\n",
    "    ply_angle = datasets_test[num]\n",
    "    \n",
    "    bas_ply=[-60, -45, -30, -15, 0, 15, 30, 45, 60, 90]\n",
    "\n",
    "    AA1=bas_ply[ply_angle[0]]\n",
    "    AA2=bas_ply[ply_angle[1]]\n",
    "    AA3=bas_ply[ply_angle[2]]\n",
    "    AA4=bas_ply[ply_angle[3]]\n",
    "    AA5=bas_ply[ply_angle[4]]\n",
    "    AA6=bas_ply[ply_angle[5]]\n",
    "    AA7=bas_ply[ply_angle[6]]\n",
    "    AA8=bas_ply[ply_angle[7]]\n",
    "\n",
    "    ### ply stacking sequence###\n",
    "    AAA=[AA1/180.0*PI,AA2/180.0*PI,AA3/180.0*PI,AA4/180.0*PI,AA5/180.0*PI,AA6/180.0*PI,AA7/180.0*PI,AA8/180.0*PI,AA8/180.0*PI,AA7/180.0*PI,AA6/180.0*PI,AA5/180.0*PI,AA4/180.0*PI,AA3/180.0*PI,AA2/180.0*PI,AA1/180.0*PI]\n",
    "    pi=3.14159265358979\n",
    "\n",
    "    R=250.0   ##  radius##\n",
    "    H=510.0   ##  Height##\n",
    "    td=0.125  #layer thickness##\n",
    "\n",
    "    TTT=[-td*8,-td*7,-td*6,-td*5,-td*4,-td*3,-td*2,-td*1,td*0,td*1,td*2,td*3,td*4,td*5,td*6,td*7,td*8]\n",
    "\n",
    "    ###material property###\n",
    "\n",
    "    E1=123550.0  \n",
    "    E2=8707.9\n",
    "    G12=5695.0\n",
    "    miu12=0.31946\n",
    "\n",
    "    miu21=miu12*E2/E1\n",
    "    Q11=E1/(1-miu12*miu21)\n",
    "    Q12=miu21*E1/(1-miu12*miu21)\n",
    "    Q22=E2/(1-miu12*miu21)\n",
    "    Q66=G12\n",
    "\n",
    "    A11=0.0\n",
    "    A12=0.0\n",
    "    A22=0.0\n",
    "    A66=0.0\n",
    "\n",
    "    D11=0.0\n",
    "    D12=0.0\n",
    "    D22=0.0\n",
    "    D66=0.0\n",
    "\n",
    "    for i in range(0,16):\n",
    "        A11=A11+(Q11*cos(AAA[i])**4+2*(Q12+2*Q66)*sin(AAA[i])**2*cos(AAA[i])**2+Q22*sin(AAA[i])**4)*(TTT[i+1]-TTT[i])\n",
    "        A12=A12+((Q11+Q22-4*Q66)*sin(AAA[i])**2*cos(AAA[i])**2+Q12*(sin(AAA[i])**4+cos(AAA[i])**4))*(TTT[i+1]-TTT[i])\n",
    "        A22=A22+(Q11*sin(AAA[i])**4+2*(Q12+2*Q66)*sin(AAA[i])**2*cos(AAA[i])**2+Q22*cos(AAA[i])**4)*(TTT[i+1]-TTT[i])\n",
    "        A66=A66+((Q11+Q22-2*Q12-2*Q66)*sin(AAA[i])**2*cos(AAA[i])**2+Q66*(sin(AAA[i])**4+cos(AAA[i])**4))*(TTT[i+1]-TTT[i])\n",
    "        D11=D11+(Q11*cos(AAA[i])**4+2*(Q12+2*Q66)*sin(AAA[i])**2*cos(AAA[i])**2+Q22*sin(AAA[i])**4)*(TTT[i+1]**3-TTT[i]**3)/3.0\n",
    "        D12=D12+((Q11+Q22-4*Q66)*sin(AAA[i])**2*cos(AAA[i])**2+Q12*(sin(AAA[i])**4+cos(AAA[i])**4))*(TTT[i+1]**3-TTT[i]**3)/3.0\n",
    "        D22=D22+(Q11*sin(AAA[i])**4+2*(Q12+2*Q66)*sin(AAA[i])**2*cos(AAA[i])**2+Q22*cos(AAA[i])**4)*(TTT[i+1]**3-TTT[i]**3)/3.0\n",
    "        D66=D66+((Q11+Q22-2*Q12-2*Q66)*sin(AAA[i])**2*cos(AAA[i])**2+Q66*(sin(AAA[i])**4+cos(AAA[i])**4))*(TTT[i+1]**3-TTT[i]**3)/3.0\n",
    "\n",
    "    #####bianliang########\n",
    "\n",
    "    D= 2*R\n",
    "    L= H\n",
    "\n",
    "    #xian\n",
    "    a=[[A11,A12,0],[A12,A22,0],[0,0,A66]]\n",
    "    b=[[0,0,0],[0,0,0],[0,0,0]]\n",
    "    d=[[D11,D12,0],[D12,D22,0],[0,0,D66]]\n",
    "\n",
    "    alpha=PI/L\n",
    "    beta=2/D\n",
    "\n",
    "    mm=50\n",
    "    nn=50\n",
    "    kmm=0\n",
    "    knn=0\n",
    "    kmm11=0\n",
    "    knn11=0\n",
    "    F=[[0 for col in range(nn)] for row in range(mm)]\n",
    "    Fcr=1e16\n",
    "\n",
    "    for m in range(1,mm+1):\n",
    "        for n in range(1,nn+1):\n",
    "            xi11=2*a[0][0]*(m*alpha)**2+2*a[2][2]*(n*beta)**2\n",
    "            xi12=2*(a[0][1]+a[2][2])*m*alpha*n*beta\n",
    "            xi13=4*a[0][1]*m*alpha/D-2*b[0][0]*(m*alpha)**3-2*(b[0][1]+2*b[2][2])*m*alpha*(n*beta)**2\n",
    "            xi22=2*a[1][1]*(n*beta)**2+2*a[2][2]*(m*alpha)**2\n",
    "            xi23=4*a[1][1]*n*beta/D-2*b[1][1]*(n*beta)**3-2*(b[0][1]+2*b[2][2])*(m*alpha)**2*n*beta\n",
    "            xi33=4*(d[0][1]+2*d[2][2])*(m*alpha*n*beta)**2+8*a[1][1]/(D**2)\\\n",
    "            +2*d[0][0]*(m*alpha)**4+2*d[1][1]*(n*beta)**4-8*(b[1][1]*(n*beta)**2+b[0][1]*(m*alpha)**2)/D\n",
    "            xi21=xi12\n",
    "            xi31=xi13\n",
    "            xi32=xi23\n",
    "            det1=xi11*(xi22*xi33-xi32*xi23)-xi12*(xi21*xi33-xi31*xi23)+xi13*(xi21*xi32-xi31*xi22)\n",
    "            det2=xi11*xi22-xi21*xi12\n",
    "            Nx=det1/det2/(2*((m*alpha)**2))\n",
    "            F[m-1][n-1]=Nx*PI*D\n",
    "            if Fcr>F[m-1][n-1]:\n",
    "              Fcr=F[m-1][n-1]\n",
    "              kmm=m\n",
    "              knn=2*n\n",
    "\n",
    "    for m in range(1,mm+1):\n",
    "        xi11=2*a[0][0]*(m*alpha)**2\n",
    "        xi12=0\n",
    "        xi13=4*a[0][1]*m*alpha/D-2*b[0][0]*(m*alpha)**3\n",
    "        xi22=2*a[2][2]*(m*alpha)**2\n",
    "        xi23=0\n",
    "        xi33=8*a[1][1]/(D**2)+2*d[0][0]*(m*alpha)**4-8*b[0][1]*(m*alpha)**2/D\n",
    "        xi21=xi12\n",
    "        xi31=xi13\n",
    "        xi32=xi23\n",
    "        det1=xi11*(xi22*xi33-xi32*xi23)-xi12*(xi21*xi33-xi31*xi23)+xi13*(xi21*xi32-xi31*xi22)\n",
    "        det2=xi11*xi22-xi21*xi12\n",
    "        Nx=det1/det2/(2*((m*alpha)**2))\n",
    "        Fn1=Nx*PI*D\n",
    "        if Fcr>Fn1:\n",
    "          Fcr=Fn1\n",
    "          kmm=m\n",
    "          knn=1\n",
    "\n",
    "    return Fcr"
   ]
  },
  {
   "cell_type": "code",
   "execution_count": 17,
   "metadata": {},
   "outputs": [
    {
     "name": "stdout",
     "output_type": "stream",
     "text": [
      "[0.99999999 0.99999999 0.99999999 ... 1.         1.         1.        ]\n"
     ]
    },
    {
     "ename": "NameError",
     "evalue": "name 'out_opt_value' is not defined",
     "output_type": "error",
     "traceback": [
      "\u001b[0;31m---------------------------------------------------------------------------\u001b[0m",
      "\u001b[0;31mNameError\u001b[0m                                 Traceback (most recent call last)",
      "\u001b[0;32m<ipython-input-17-5134f8480881>\u001b[0m in \u001b[0;36m<module>\u001b[0;34m\u001b[0m\n\u001b[1;32m     18\u001b[0m \u001b[0;34m\u001b[0m\u001b[0m\n\u001b[1;32m     19\u001b[0m \u001b[0;31m# print(out_opt_value)\u001b[0m\u001b[0;34m\u001b[0m\u001b[0;34m\u001b[0m\u001b[0;34m\u001b[0m\u001b[0m\n\u001b[0;32m---> 20\u001b[0;31m \u001b[0mprint\u001b[0m\u001b[0;34m(\u001b[0m\u001b[0mnp\u001b[0m\u001b[0;34m.\u001b[0m\u001b[0mmean\u001b[0m\u001b[0;34m(\u001b[0m\u001b[0mout_opt_value\u001b[0m\u001b[0;34m)\u001b[0m\u001b[0;34m)\u001b[0m\u001b[0;34m\u001b[0m\u001b[0;34m\u001b[0m\u001b[0m\n\u001b[0m\u001b[1;32m     21\u001b[0m \u001b[0mprint\u001b[0m\u001b[0;34m(\u001b[0m\u001b[0mnp\u001b[0m\u001b[0;34m.\u001b[0m\u001b[0mstd\u001b[0m\u001b[0;34m(\u001b[0m\u001b[0mout_opt_value\u001b[0m\u001b[0;34m)\u001b[0m\u001b[0;34m)\u001b[0m\u001b[0;34m\u001b[0m\u001b[0;34m\u001b[0m\u001b[0m\n\u001b[1;32m     22\u001b[0m \u001b[0mprint\u001b[0m\u001b[0;34m(\u001b[0m\u001b[0mmin\u001b[0m\u001b[0;34m(\u001b[0m\u001b[0mout_opt_value\u001b[0m\u001b[0;34m)\u001b[0m\u001b[0;34m)\u001b[0m\u001b[0;34m\u001b[0m\u001b[0;34m\u001b[0m\u001b[0m\n",
      "\u001b[0;31mNameError\u001b[0m: name 'out_opt_value' is not defined"
     ]
    },
    {
     "data": {
      "image/png": "[encoded data removed]",
      "text/plain": [
       "<Figure size 432x288 with 1 Axes>"
      ]
     },
     "metadata": {
      "needs_background": "light"
     },
     "output_type": "display_data"
    },
    {
     "data": {
      "image/png": "[encoded data removed]",
      "text/plain": [
       "<Figure size 432x288 with 1 Axes>"
      ]
     },
     "metadata": {
      "needs_background": "light"
     },
     "output_type": "display_data"
    }
   ],
   "source": [
    "# pool = mp.Pool(processes = 8)\n",
    "# out_opt_value = pool.map(ssh_test, range(int(data_size*0.1)))\n",
    "# print(out_opt_value)\n",
    "# plt.figure()\n",
    "# plt.hist(out_opt_value)\n",
    "\n",
    "out_opt_proba = mlp.predict_proba(top_10)\n",
    "print(out_opt_proba[:][:,1])\n",
    "plt.figure()\n",
    "plt.hist(out_opt_proba[:][:,1])\n",
    "\n",
    "\n",
    "plt.figure()\n",
    "plt.hist(results_map)\n",
    "# print(out_opt_value)\n",
    "# print(out_opt_proba[:][:,1])\n",
    "# print(np.shape(datasets))\n",
    "\n",
    "# print(out_opt_value)\n",
    "print(np.mean(out_opt_value))\n",
    "print(np.std(out_opt_value))\n",
    "print(min(out_opt_value))\n",
    "print(max(out_opt_value))"
   ]
  },
  {
   "cell_type": "code",
   "execution_count": null,
   "metadata": {},
   "outputs": [],
   "source": [
    "print(max(results_map))\n",
    "print(np.mean(results_map))\n",
    "print(np.std(results_map))\n"
   ]
  },
  {
   "cell_type": "code",
   "execution_count": null,
   "metadata": {},
   "outputs": [],
   "source": []
  }
 ],
 "metadata": {
  "kernelspec": {
   "display_name": "Python 3",
   "language": "python",
   "name": "python3"
  },
  "language_info": {
   "codemirror_mode": {
    "name": "ipython",
    "version": 3
   },
   "file_extension": ".py",
   "mimetype": "text/x-python",
   "name": "python",
   "nbconvert_exporter": "python",
   "pygments_lexer": "ipython3",
   "version": "3.6.8"
  }
 },
 "nbformat": 4,
 "nbformat_minor": 2
}
