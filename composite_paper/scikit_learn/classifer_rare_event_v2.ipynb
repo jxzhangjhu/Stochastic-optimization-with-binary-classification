{
 "cells": [
  {
   "cell_type": "markdown",
   "metadata": {},
   "source": [
    "# Data Collection"
   ]
  },
  {
   "cell_type": "code",
   "execution_count": 29,
   "metadata": {},
   "outputs": [
    {
     "name": "stdout",
     "output_type": "stream",
     "text": [
      "0.06138181686401367\n"
     ]
    },
    {
     "data": {
      "text/plain": [
       "(array([  5.,   9.,  10.,  13.,  21.,  14.,  27.,  35.,  35.,  41.,  38.,\n",
       "         49.,  66.,  62.,  69.,  92., 114., 155., 135., 142., 153., 141.,\n",
       "        155., 175., 198., 183., 175., 194., 209., 188., 245., 258., 266.,\n",
       "        279., 328., 339., 335., 361., 339., 360., 359., 379., 349., 360.,\n",
       "        362., 382., 367., 429., 429., 571.]),\n",
       " array([2.01398283, 2.0717777 , 2.12957257, 2.18736744, 2.24516231,\n",
       "        2.30295718, 2.36075205, 2.41854692, 2.47634179, 2.53413666,\n",
       "        2.59193153, 2.6497264 , 2.70752127, 2.76531614, 2.82311101,\n",
       "        2.88090588, 2.93870075, 2.99649562, 3.05429049, 3.11208536,\n",
       "        3.16988023, 3.2276751 , 3.28546997, 3.34326484, 3.40105971,\n",
       "        3.45885458, 3.51664945, 3.57444432, 3.63223919, 3.69003407,\n",
       "        3.74782894, 3.80562381, 3.86341868, 3.92121355, 3.97900842,\n",
       "        4.03680329, 4.09459816, 4.15239303, 4.2101879 , 4.26798277,\n",
       "        4.32577764, 4.38357251, 4.44136738, 4.49916225, 4.55695712,\n",
       "        4.61475199, 4.67254686, 4.73034173, 4.7881366 , 4.84593147,\n",
       "        4.90372634]),\n",
       " <a list of 50 Patch objects>)"
      ]
     },
     "execution_count": 29,
     "metadata": {},
     "output_type": "execute_result"
    },
    {
     "data": {
      "image/png": "[encoded data removed]",
      "text/plain": [
       "<Figure size 432x288 with 1 Axes>"
      ]
     },
     "metadata": {
      "needs_background": "light"
     },
     "output_type": "display_data"
    }
   ],
   "source": [
    "from math import*\n",
    "import __main__\n",
    "global PI\n",
    "import os\n",
    "import time\n",
    "PI=float(acos(-1))\n",
    "\n",
    "import random\n",
    "import numpy as np\n",
    "import multiprocessing as mp\n",
    "\n",
    "import matplotlib.pyplot as plt\n",
    "from scipy.stats import norm\n",
    "from scipy.stats import lognorm\n",
    "\n",
    "%matplotlib inline\n",
    "\n",
    "rs_number = 123\n",
    "random.seed(rs_number)\n",
    "\n",
    "data_size = 10000;\n",
    "\n",
    "random_selection = 0\n",
    "\n",
    "if random_selection==0:\n",
    "    ''' random selection'''\n",
    "#     mu = [0,0]\n",
    "#     cov = [[1, 0], [0, 1]]\n",
    "#     datasets = np.random.multivariate_normal(mu, cov, data_size)\n",
    "    x0 = np.random.uniform(0,1,data_size)\n",
    "    x1 = np.random.uniform(0,1,data_size)\n",
    "    x = [x0, x1]\n",
    "    datasets = np.reshape(x,(data_size,2))\n",
    "else:\n",
    "    '''latin hypercube sampling'''\n",
    "\n",
    "# print(np.shape(datasets)) \n",
    "# plt.plot(datasets[:,0],datasets[:,1],'o')\n",
    "\n",
    "def ssh(X):\n",
    "    c = 4\n",
    "    g = c-X[0]/c + sin(c*X[0])-X[1]**3\n",
    "#     g = 0.7*norm.pdf(X,3,1) + 0.3*norm.pdf(X,6,1)\n",
    "#     g = 0.7*norm.ppf(X, loc=3, scale=1) + 0.3*norm.ppf(X, loc=10, scale=1)\n",
    "#     g = lognorm.ppf([0.001, 0.5, 0.999], X)\n",
    "    return g\n",
    "\n",
    "\n",
    "# map async parallel \n",
    "# pool = mp.Pool(mp.cpu_count())\n",
    "pool = mp.Pool(processes = 2)\n",
    "\n",
    "start = time.time()\n",
    "results_map = pool.map(ssh, datasets)\n",
    "end = time.time() \n",
    "print(end - start) #0.0037827491760253906\n",
    "\n",
    "# print(results_map)\n",
    "\n",
    "# # rare event probability\n",
    "# num = 0\n",
    "# for i in range(data_size):\n",
    "#     if results_map[i]<0:\n",
    "#         num = num+1\n",
    "\n",
    "# prob = num/data_size\n",
    "# print(prob)\n",
    "\n",
    "plt.hist(results_map,50)\n"
   ]
  },
  {
   "cell_type": "code",
   "execution_count": 30,
   "metadata": {},
   "outputs": [
    {
     "data": {
      "text/plain": [
       "(10000, 2)"
      ]
     },
     "execution_count": 30,
     "metadata": {},
     "output_type": "execute_result"
    }
   ],
   "source": [
    "datasets2 = np.reshape(datasets,(10000,2))\n",
    "np.shape(datasets2)\n",
    "# type(datasets)"
   ]
  },
  {
   "cell_type": "markdown",
   "metadata": {},
   "source": [
    "# Data classification and preprocessing"
   ]
  },
  {
   "cell_type": "code",
   "execution_count": 31,
   "metadata": {},
   "outputs": [
    {
     "name": "stdout",
     "output_type": "stream",
     "text": [
      "4.157587087702216\n"
     ]
    }
   ],
   "source": [
    "results_map_sort = sorted(results_map) # note that sorted change the sort but didn't change the original one\n",
    "# print(results_map_sort)\n",
    "median_value = results_map_sort[data_size//2]\n",
    "# median_value = 3.5\n",
    "print(median_value)\n",
    "\n",
    "results_map_new = np.zeros((data_size,1))\n",
    "output_scikit = np.zeros(data_size)\n",
    "\n",
    "for i in range(data_size):\n",
    "    if results_map[i] > median_value:\n",
    "        results_map_new[i,:] = 1\n",
    "        output_scikit[i] = 1\n",
    "    else:\n",
    "        results_map_new[i,:] = 0\n",
    "        output_scikit[i] = 0\n",
    "\n",
    "y_data = output_scikit"
   ]
  },
  {
   "cell_type": "markdown",
   "metadata": {},
   "source": [
    "# Training by classification "
   ]
  },
  {
   "cell_type": "code",
   "execution_count": 32,
   "metadata": {},
   "outputs": [
    {
     "name": "stdout",
     "output_type": "stream",
     "text": [
      "Iteration 1, loss = 0.52954826\n",
      "Iteration 2, loss = 0.20049730\n",
      "Iteration 3, loss = 0.07476135\n",
      "Iteration 4, loss = 0.04720042\n",
      "Iteration 5, loss = 0.03781071\n",
      "Iteration 6, loss = 0.03229842\n",
      "Iteration 7, loss = 0.02702488\n",
      "Iteration 8, loss = 0.02382095\n",
      "Iteration 9, loss = 0.02196087\n",
      "Iteration 10, loss = 0.02178616\n",
      "Iteration 11, loss = 0.02443034\n",
      "Iteration 12, loss = 0.01926126\n",
      "Iteration 13, loss = 0.01649766\n",
      "Iteration 14, loss = 0.01878661\n",
      "Iteration 15, loss = 0.01540790\n",
      "Iteration 16, loss = 0.01867933\n",
      "Iteration 17, loss = 0.01674328\n",
      "Iteration 18, loss = 0.02247639\n",
      "Iteration 19, loss = 0.01390420\n",
      "Iteration 20, loss = 0.01377879\n",
      "Iteration 21, loss = 0.01682865\n",
      "Iteration 22, loss = 0.01384273\n",
      "Iteration 23, loss = 0.01250218\n",
      "Iteration 24, loss = 0.01647294\n",
      "Iteration 25, loss = 0.01303449\n",
      "Iteration 26, loss = 0.01222780\n",
      "Iteration 27, loss = 0.01198007\n",
      "Iteration 28, loss = 0.01684883\n",
      "Iteration 29, loss = 0.01845395\n",
      "Iteration 30, loss = 0.01361800\n",
      "Iteration 31, loss = 0.01633302\n",
      "Iteration 32, loss = 0.01008706\n",
      "Iteration 33, loss = 0.01066166\n",
      "Iteration 34, loss = 0.01164748\n",
      "Iteration 35, loss = 0.01167750\n",
      "Iteration 36, loss = 0.01376955\n",
      "Iteration 37, loss = 0.01517034\n",
      "Iteration 38, loss = 0.01337779\n",
      "Iteration 39, loss = 0.01079393\n",
      "Iteration 40, loss = 0.01117455\n",
      "Iteration 41, loss = 0.01066495\n",
      "Iteration 42, loss = 0.01290466\n",
      "Iteration 43, loss = 0.01386005\n",
      "Training loss did not improve more than tol=0.000100 for 10 consecutive epochs. Stopping.\n",
      "Accuracy (train) for 99.5% \n"
     ]
    }
   ],
   "source": [
    "# scikit-learn MLP training \n",
    "from sklearn.neural_network import MLPClassifier\n",
    "from sklearn.datasets import fetch_mldata\n",
    "from sklearn import preprocessing\n",
    "from sklearn.model_selection import cross_val_score\n",
    "from sklearn.model_selection import train_test_split\n",
    "from sklearn.metrics import accuracy_score\n",
    "from sklearn.gaussian_process import GaussianProcessClassifier\n",
    "from sklearn.gaussian_process.kernels import RBF\n",
    "from sklearn.linear_model import LogisticRegression\n",
    "\n",
    "# preprocessing data scale? X is [1,10]\n",
    "trans_mean = np.mean(datasets)\n",
    "trans_std = np.std(datasets)\n",
    "\n",
    "data_scale = 2\n",
    "if data_scale==0:\n",
    "    X_data = preprocessing.scale(datasets)\n",
    "elif data_scale ==1:\n",
    "    min_max_scaler = preprocessing.MinMaxScaler(feature_range=(0, 1))\n",
    "    X_data = min_max_scaler.fit_transform(datasets)\n",
    "elif data_scale ==2:\n",
    "    scaler = preprocessing.StandardScaler().fit(datasets) # can be used for the following iteration \n",
    "    X_data = scaler.transform(datasets)  \n",
    "\n",
    "# sgd optimizer \n",
    "# mlp = MLPClassifier(solver='sgd', activation='relu',alpha=1e-4, hidden_layer_sizes=(128, 128),\n",
    "#                     random_state=1, max_iter=10000,verbose=True)\n",
    "\n",
    "mlp = MLPClassifier(solver='adam', activation='relu',alpha=1e-4, hidden_layer_sizes=(50,50,50,50),\n",
    "                    random_state=1, max_iter=1000,verbose=True,learning_rate = 'adaptive')\n",
    "\n",
    "# lbfgs - very slow \n",
    "# mlp = MLPClassifier(solver='lbfgs', activation='relu',alpha=1e-4,hidden_layer_sizes=(100,100),\n",
    "#                     random_state=1,max_iter=50,verbose=10,learning_rate_init=.1)\n",
    "# adam \n",
    "# mlp = MLPClassifier(solver='adam', activation='relu',alpha=1e-4,hidden_layer_sizes=(100,100),\n",
    "#                     random_state=1,max_iter=50,verbose=10,learning_rate_init=.1)\n",
    "\n",
    "# testing and training data \n",
    "X_train, X_test, y_train, y_test = train_test_split(X_data, y_data, test_size=0.2,random_state=rs_number)\n",
    "\n",
    "# training \n",
    "# kernel = 1.0 * RBF(1.0)\n",
    "# mlp = GaussianProcessClassifier(kernel=kernel,random_state=0).fit(X_train, y_train)\n",
    "# print(mlp,score(X_train, y_train))\n",
    "mlp.fit(X_train, y_train) \n",
    "\n",
    "# mlp = LogisticRegression(random_state=0, solver='lbfgs',multi_class='auto',verbose=1, n_jobs = 4).fit(X_train, y_train)\n",
    "\n",
    "#testing\n",
    "y_pred = mlp.predict(X_test)\n",
    "accuracy = accuracy_score(y_test, y_pred)\n",
    "print(\"Accuracy (train) for %0.1f%% \" % (accuracy * 100))\n",
    "\n",
    "# # cross-validation \n",
    "# score_cv = cross_val_score(mlp, X_data, y_data,cv=5)  \n",
    "# print(score_cv)\n",
    "\n",
    "## tuning hyperparameters \n",
    "\n",
    "# 10000 data, [0.84457771 0.854      0.8385     0.845      0.85992996], default\n",
    "# 10000 data, [0.82908546 0.835      0.8235     0.8185     0.82391196], feature[1,10] normalization 效果一般\n",
    "# 10000 data, [0.86206897 0.8605     0.8375     0.854      0.8154077 ], feature[0,1] normalization 效果一般\n",
    "# 10000 data, [0.84457771 0.854      0.8385     0.845      0.85992996], StandardScaler()"
   ]
  },
  {
   "cell_type": "markdown",
   "metadata": {},
   "source": [
    "# ML rank VS FEM rank"
   ]
  },
  {
   "cell_type": "code",
   "execution_count": 33,
   "metadata": {},
   "outputs": [
    {
     "name": "stdout",
     "output_type": "stream",
     "text": [
      "[5884, 9482, 6588, 670, 7514, 1735, 5614, 1737, 7006, 4553, 3023, 8760, 8803, 3233, 4475, 4641, 5304, 7488, 2906, 1833]\n",
      "[5884, 5614, 1737, 670, 9482, 3023, 8760, 7514, 6588, 5304, 3233, 1735, 1833, 4553, 2906, 9182, 7006, 8803, 7488, 9507]\n"
     ]
    },
    {
     "data": {
      "text/plain": [
       "[<matplotlib.lines.Line2D at 0x1a1c973048>]"
      ]
     },
     "execution_count": 33,
     "metadata": {},
     "output_type": "execute_result"
    },
    {
     "data": {
      "image/png": "[encoded data removed]",
      "text/plain": [
       "<Figure size 480x480 with 1 Axes>"
      ]
     },
     "metadata": {},
     "output_type": "display_data"
    }
   ],
   "source": [
    "sort_index_FEM = np.argsort(results_map)\n",
    "probs = mlp.predict_proba(X_data)\n",
    "# print(probs)\n",
    "sort_index_mlp = np.argsort(probs[:][:,1])\n",
    "\n",
    "sort_FEM = sort_index_FEM.tolist()\n",
    "sort_mlp = sort_index_mlp.tolist()\n",
    "\n",
    "print(sort_FEM[0:20])\n",
    "print(sort_mlp[0:20])\n",
    "\n",
    "rank_mlp = []\n",
    "for j in range(data_size):\n",
    "    rank_fem = sort_FEM[j]\n",
    "    rank_mlp0 = sort_mlp.index(rank_fem)\n",
    "#     print(rank_mlp0)\n",
    "    rank_mlp.append(rank_mlp0)\n",
    "\n",
    "\n",
    "plt.figure(num=None, figsize=(6, 6), dpi=80, facecolor='w', edgecolor='k')\n",
    "plt.plot(range(data_size),rank_mlp,'.')\n"
   ]
  },
  {
   "cell_type": "code",
   "execution_count": null,
   "metadata": {},
   "outputs": [],
   "source": []
  }
 ],
 "metadata": {
  "kernelspec": {
   "display_name": "Python 3",
   "language": "python",
   "name": "python3"
  },
  "language_info": {
   "codemirror_mode": {
    "name": "ipython",
    "version": 3
   },
   "file_extension": ".py",
   "mimetype": "text/x-python",
   "name": "python",
   "nbconvert_exporter": "python",
   "pygments_lexer": "ipython3",
   "version": "3.6.8"
  }
 },
 "nbformat": 4,
 "nbformat_minor": 2
}
