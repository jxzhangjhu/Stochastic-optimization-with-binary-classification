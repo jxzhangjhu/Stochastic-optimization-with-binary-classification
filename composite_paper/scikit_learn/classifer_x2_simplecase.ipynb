{
 "cells": [
  {
   "cell_type": "markdown",
   "metadata": {},
   "source": [
    "# Data Collection"
   ]
  },
  {
   "cell_type": "code",
   "execution_count": 60,
   "metadata": {},
   "outputs": [
    {
     "name": "stdout",
     "output_type": "stream",
     "text": [
      "0.02730584144592285\n"
     ]
    },
    {
     "data": {
      "text/plain": [
       "(array([  1.,   2.,   1.,   0.,   2.,   0.,   2.,   4.,   7.,  10.,  12.,\n",
       "         17.,  18.,  32.,  38.,  58.,  69.,  68.,  72.,  97., 126., 164.,\n",
       "        170., 210., 222., 225., 236., 280., 277., 297., 283., 302., 292.,\n",
       "        256., 219., 199., 187., 170., 118.,  84.,  57.,  43.,  24.,  23.,\n",
       "         15.,   6.,   2.,   0.,   2.,   1.]),\n",
       " array([-96.71432761, -95.2464561 , -93.77858459, -92.31071309,\n",
       "        -90.84284158, -89.37497007, -87.90709856, -86.43922706,\n",
       "        -84.97135555, -83.50348404, -82.03561253, -80.56774103,\n",
       "        -79.09986952, -77.63199801, -76.1641265 , -74.696255  ,\n",
       "        -73.22838349, -71.76051198, -70.29264048, -68.82476897,\n",
       "        -67.35689746, -65.88902595, -64.42115445, -62.95328294,\n",
       "        -61.48541143, -60.01753992, -58.54966842, -57.08179691,\n",
       "        -55.6139254 , -54.14605389, -52.67818239, -51.21031088,\n",
       "        -49.74243937, -48.27456786, -46.80669636, -45.33882485,\n",
       "        -43.87095334, -42.40308183, -40.93521033, -39.46733882,\n",
       "        -37.99946731, -36.5315958 , -35.0637243 , -33.59585279,\n",
       "        -32.12798128, -30.66010977, -29.19223827, -27.72436676,\n",
       "        -26.25649525, -24.78862374, -23.32075224]),\n",
       " <a list of 50 Patch objects>)"
      ]
     },
     "execution_count": 60,
     "metadata": {},
     "output_type": "execute_result"
    },
    {
     "data": {
      "image/png": "[encoded data removed]",
      "text/plain": [
       "<Figure size 432x288 with 1 Axes>"
      ]
     },
     "metadata": {
      "needs_background": "light"
     },
     "output_type": "display_data"
    }
   ],
   "source": [
    "from math import*\n",
    "import __main__\n",
    "global PI\n",
    "import os\n",
    "import time\n",
    "PI=float(acos(-1))\n",
    "\n",
    "import random\n",
    "import numpy as np\n",
    "import multiprocessing as mp\n",
    "\n",
    "import matplotlib.pyplot as plt\n",
    "from scipy.stats import norm\n",
    "from scipy.stats import lognorm\n",
    "\n",
    "%matplotlib inline\n",
    "\n",
    "rs_number = 123\n",
    "random.seed(rs_number)\n",
    "\n",
    "data_size = 5000;\n",
    "\n",
    "random_selection = 0\n",
    "\n",
    "if random_selection==0:\n",
    "    ''' random selection'''\n",
    "    mu = [10,10]\n",
    "    cov = [[1, 0], [0, 1]]\n",
    "    datasets = np.random.multivariate_normal(mu, cov, data_size)\n",
    "#     x0 = np.random.uniform(0,3,data_size)\n",
    "#     x1 = np.random.uniform(0,3,data_size)\n",
    "#     x = [x0, x1]\n",
    "#     datasets = np.reshape(x,(data_size,2))\n",
    "else:\n",
    "    '''latin hypercube sampling'''\n",
    "\n",
    "# print(np.shape(datasets)) \n",
    "# plt.plot(datasets[:,0],datasets[:,1],'o')\n",
    "\n",
    "def ssh(X):\n",
    "#     c = 4\n",
    "#     g = sin(X[0]+X[1])\n",
    "#     g = (X[0]+X[1])**2\n",
    "#     g = 4-X[0]/4 + sin(4*X[0])-X[1]\n",
    "    g = 5 -X[1]- 0.5*(X[0]-0.1)**2\n",
    "#     g = 0.7*norm.pdf(X,3,1) + 0.3*norm.pdf(X,6,1)\n",
    "#     g = 0.7*norm.ppf(X, loc=3, scale=1) + 0.3*norm.ppf(X, loc=10, scale=1)\n",
    "#     g = lognorm.ppf([0.001, 0.5, 0.999], X)\n",
    "    return g\n",
    "\n",
    "\n",
    "# map async parallel \n",
    "# pool = mp.Pool(mp.cpu_count())\n",
    "pool = mp.Pool(processes = 2)\n",
    "\n",
    "start = time.time()\n",
    "results_map = pool.map(ssh, datasets)\n",
    "end = time.time() \n",
    "print(end - start) #0.0037827491760253906\n",
    "\n",
    "\n",
    "\n",
    "# print(results_map)\n",
    "\n",
    "# # rare event probability\n",
    "# num = 0\n",
    "# for i in range(data_size):\n",
    "#     if results_map[i]<0:\n",
    "#         num = num+1\n",
    "\n",
    "# prob = num/data_size\n",
    "# print(prob)\n",
    "\n",
    "# results_map = datasets**2\n",
    "# print(results_map)\n",
    "plt.hist(results_map,50)\n",
    "\n",
    "\n",
    "# results_map = "
   ]
  },
  {
   "cell_type": "code",
   "execution_count": null,
   "metadata": {},
   "outputs": [],
   "source": []
  },
  {
   "cell_type": "markdown",
   "metadata": {},
   "source": [
    "# Data classification and preprocessing"
   ]
  },
  {
   "cell_type": "code",
   "execution_count": 61,
   "metadata": {},
   "outputs": [
    {
     "name": "stdout",
     "output_type": "stream",
     "text": [
      "-53.754341123032944\n"
     ]
    }
   ],
   "source": [
    "results_map_sort = sorted(results_map) # note that sorted change the sort but didn't change the original one\n",
    "# print(results_map_sort)\n",
    "median_value = results_map_sort[data_size//2]\n",
    "# median_value = 3.5\n",
    "print(median_value)\n",
    "\n",
    "results_map_new = np.zeros((data_size,1))\n",
    "output_scikit = np.zeros(data_size)\n",
    "\n",
    "for i in range(data_size):\n",
    "    if results_map[i] > median_value:\n",
    "        results_map_new[i,:] = 1\n",
    "        output_scikit[i] = 1\n",
    "    else:\n",
    "        results_map_new[i,:] = 0\n",
    "        output_scikit[i] = 0\n",
    "\n",
    "y_data = output_scikit"
   ]
  },
  {
   "cell_type": "markdown",
   "metadata": {},
   "source": [
    "# Training by classification "
   ]
  },
  {
   "cell_type": "code",
   "execution_count": 62,
   "metadata": {},
   "outputs": [
    {
     "name": "stdout",
     "output_type": "stream",
     "text": [
      "Iteration 1, loss = 0.76087571\n",
      "Iteration 2, loss = 0.68414859\n",
      "Iteration 3, loss = 0.64678716\n",
      "Iteration 4, loss = 0.60202065\n",
      "Iteration 5, loss = 0.53657986\n",
      "Iteration 6, loss = 0.45238186\n",
      "Iteration 7, loss = 0.36385613\n",
      "Iteration 8, loss = 0.28910983\n",
      "Iteration 9, loss = 0.23170169\n",
      "Iteration 10, loss = 0.18785318\n",
      "Iteration 11, loss = 0.15219090\n",
      "Iteration 12, loss = 0.12476803\n",
      "Iteration 13, loss = 0.10312657\n",
      "Iteration 14, loss = 0.08584464\n",
      "Iteration 15, loss = 0.07160478\n",
      "Iteration 16, loss = 0.06034986\n",
      "Iteration 17, loss = 0.05198921\n",
      "Iteration 18, loss = 0.04548206\n",
      "Iteration 19, loss = 0.04043807\n",
      "Iteration 20, loss = 0.03642885\n",
      "Iteration 21, loss = 0.03336712\n",
      "Iteration 22, loss = 0.03088296\n",
      "Iteration 23, loss = 0.02834407\n",
      "Iteration 24, loss = 0.02646170\n",
      "Iteration 25, loss = 0.02469529\n",
      "Iteration 26, loss = 0.02313446\n",
      "Iteration 27, loss = 0.02251161\n",
      "Iteration 28, loss = 0.02119272\n",
      "Iteration 29, loss = 0.02031611\n",
      "Iteration 30, loss = 0.01858343\n",
      "Iteration 31, loss = 0.01768858\n",
      "Iteration 32, loss = 0.01694848\n",
      "Iteration 33, loss = 0.01626300\n",
      "Iteration 34, loss = 0.01565560\n",
      "Iteration 35, loss = 0.01459656\n",
      "Iteration 36, loss = 0.01464861\n",
      "Iteration 37, loss = 0.01398414\n",
      "Iteration 38, loss = 0.01343926\n",
      "Iteration 39, loss = 0.01289733\n",
      "Iteration 40, loss = 0.01244557\n",
      "Iteration 41, loss = 0.01185461\n",
      "Iteration 42, loss = 0.01155596\n",
      "Iteration 43, loss = 0.01124964\n",
      "Iteration 44, loss = 0.01101279\n",
      "Iteration 45, loss = 0.01054370\n",
      "Iteration 46, loss = 0.01020650\n",
      "Iteration 47, loss = 0.01000721\n",
      "Iteration 48, loss = 0.00976664\n",
      "Iteration 49, loss = 0.00995391\n",
      "Iteration 50, loss = 0.00946827\n",
      "Iteration 51, loss = 0.00896863\n",
      "Iteration 52, loss = 0.00871496\n",
      "Iteration 53, loss = 0.00927105\n",
      "Iteration 54, loss = 0.00860290\n",
      "Iteration 55, loss = 0.00843870\n",
      "Iteration 56, loss = 0.00855863\n",
      "Iteration 57, loss = 0.00838135\n",
      "Iteration 58, loss = 0.00854287\n",
      "Iteration 59, loss = 0.00766651\n",
      "Iteration 60, loss = 0.00790445\n",
      "Iteration 61, loss = 0.00772625\n",
      "Iteration 62, loss = 0.00762663\n",
      "Iteration 63, loss = 0.00689451\n",
      "Iteration 64, loss = 0.00706344\n",
      "Iteration 65, loss = 0.00698246\n",
      "Iteration 66, loss = 0.00690309\n",
      "Iteration 67, loss = 0.00663892\n",
      "Iteration 68, loss = 0.00644343\n",
      "Iteration 69, loss = 0.00659060\n",
      "Iteration 70, loss = 0.00623907\n",
      "Iteration 71, loss = 0.00628322\n",
      "Iteration 72, loss = 0.00659830\n",
      "Iteration 73, loss = 0.00639800\n",
      "Iteration 74, loss = 0.00588822\n",
      "Iteration 75, loss = 0.00605542\n",
      "Iteration 76, loss = 0.00591206\n",
      "Iteration 77, loss = 0.00589900\n",
      "Iteration 78, loss = 0.00572421\n",
      "Iteration 79, loss = 0.00568521\n",
      "Iteration 80, loss = 0.00531724\n",
      "Iteration 81, loss = 0.00550589\n",
      "Iteration 82, loss = 0.00513691\n",
      "Iteration 83, loss = 0.00554855\n",
      "Iteration 84, loss = 0.00527157\n",
      "Iteration 85, loss = 0.00509964\n",
      "Iteration 86, loss = 0.00537656\n",
      "Iteration 87, loss = 0.00505290\n",
      "Iteration 88, loss = 0.00538049\n",
      "Iteration 89, loss = 0.00483455\n",
      "Iteration 90, loss = 0.00475268\n",
      "Iteration 91, loss = 0.00480095\n",
      "Iteration 92, loss = 0.00463788\n",
      "Iteration 93, loss = 0.00477849\n",
      "Iteration 94, loss = 0.00480751\n",
      "Iteration 95, loss = 0.00484800\n",
      "Iteration 96, loss = 0.00501301\n",
      "Iteration 97, loss = 0.00430695\n",
      "Iteration 98, loss = 0.00431422\n",
      "Iteration 99, loss = 0.00433700\n",
      "Iteration 100, loss = 0.00429846\n",
      "Iteration 101, loss = 0.00396510\n",
      "Iteration 102, loss = 0.00447513\n",
      "Iteration 103, loss = 0.00443406\n",
      "Iteration 104, loss = 0.00395798\n",
      "Iteration 105, loss = 0.00392036\n",
      "Iteration 106, loss = 0.00399377\n",
      "Iteration 107, loss = 0.00438697\n",
      "Iteration 108, loss = 0.00411155\n",
      "Iteration 109, loss = 0.00360709\n",
      "Iteration 110, loss = 0.00423241\n",
      "Iteration 111, loss = 0.00425143\n",
      "Iteration 112, loss = 0.00538913\n",
      "Iteration 113, loss = 0.00448366\n",
      "Iteration 114, loss = 0.00393514\n",
      "Iteration 115, loss = 0.00407494\n",
      "Iteration 116, loss = 0.00386391\n",
      "Iteration 117, loss = 0.00382390\n",
      "Iteration 118, loss = 0.00354024\n",
      "Iteration 119, loss = 0.00353884\n",
      "Iteration 120, loss = 0.00369771\n",
      "Training loss did not improve more than tol=0.000100 for 10 consecutive epochs. Stopping.\n",
      "Accuracy (train) for 99.8% \n"
     ]
    }
   ],
   "source": [
    "# scikit-learn MLP training \n",
    "from sklearn.neural_network import MLPClassifier\n",
    "from sklearn.datasets import fetch_mldata\n",
    "from sklearn import preprocessing\n",
    "from sklearn.model_selection import cross_val_score\n",
    "from sklearn.model_selection import train_test_split\n",
    "from sklearn.metrics import accuracy_score\n",
    "from sklearn.gaussian_process import GaussianProcessClassifier\n",
    "from sklearn.gaussian_process.kernels import RBF\n",
    "from sklearn.linear_model import LogisticRegression\n",
    "\n",
    "# preprocessing data scale? X is [1,10]\n",
    "trans_mean = np.mean(datasets)\n",
    "trans_std = np.std(datasets)\n",
    "\n",
    "data_scale = 2\n",
    "if data_scale==0:\n",
    "    X_data = preprocessing.scale(datasets)\n",
    "elif data_scale ==1:\n",
    "    min_max_scaler = preprocessing.MinMaxScaler(feature_range=(0, 1))\n",
    "    X_data = min_max_scaler.fit_transform(datasets)\n",
    "elif data_scale ==2:\n",
    "    scaler = preprocessing.StandardScaler().fit(datasets) # can be used for the following iteration \n",
    "    X_data = scaler.transform(datasets)  \n",
    "\n",
    "# sgd optimizer \n",
    "# mlp = MLPClassifier(solver='sgd', activation='relu',alpha=1e-4, hidden_layer_sizes=(128, 128),\n",
    "#                     random_state=1, max_iter=10000,verbose=True)\n",
    "\n",
    "mlp = MLPClassifier(solver='adam', activation='relu',alpha=1e-4, hidden_layer_sizes=(10,10,10,10),\n",
    "                    random_state=1, max_iter=1000,verbose=True,learning_rate = 'adaptive')\n",
    "\n",
    "# lbfgs - very slow \n",
    "# mlp = MLPClassifier(solver='lbfgs', activation='relu',alpha=1e-4,hidden_layer_sizes=(100,100),\n",
    "#                     random_state=1,max_iter=50,verbose=10,learning_rate_init=.1)\n",
    "# adam \n",
    "# mlp = MLPClassifier(solver='adam', activation='relu',alpha=1e-4,hidden_layer_sizes=(100,100),\n",
    "#                     random_state=1,max_iter=50,verbose=10,learning_rate_init=.1)\n",
    "\n",
    "# testing and training data \n",
    "X_train, X_test, y_train, y_test = train_test_split(X_data, y_data, test_size=0.2,random_state=rs_number)\n",
    "\n",
    "# training \n",
    "# kernel = 1.0 * RBF(1.0)\n",
    "# mlp = GaussianProcessClassifier(kernel=kernel,random_state=0).fit(X_train, y_train)\n",
    "# print(mlp,score(X_train, y_train))\n",
    "mlp.fit(X_train, y_train) \n",
    "\n",
    "# mlp = LogisticRegression(random_state=0, solver='lbfgs',multi_class='auto',verbose=1, n_jobs = 4).fit(X_train, y_train)\n",
    "\n",
    "#testing\n",
    "y_pred = mlp.predict(X_test)\n",
    "accuracy = accuracy_score(y_test, y_pred)\n",
    "print(\"Accuracy (train) for %0.1f%% \" % (accuracy * 100))\n",
    "\n",
    "# # cross-validation \n",
    "# score_cv = cross_val_score(mlp, X_data, y_data,cv=5)  \n",
    "# print(score_cv)\n",
    "\n",
    "## tuning hyperparameters \n",
    "\n",
    "# 10000 data, [0.84457771 0.854      0.8385     0.845      0.85992996], default\n",
    "# 10000 data, [0.82908546 0.835      0.8235     0.8185     0.82391196], feature[1,10] normalization 效果一般\n",
    "# 10000 data, [0.86206897 0.8605     0.8375     0.854      0.8154077 ], feature[0,1] normalization 效果一般\n",
    "# 10000 data, [0.84457771 0.854      0.8385     0.845      0.85992996], StandardScaler()"
   ]
  },
  {
   "cell_type": "markdown",
   "metadata": {},
   "source": [
    "# ML rank VS FEM rank"
   ]
  },
  {
   "cell_type": "code",
   "execution_count": 63,
   "metadata": {},
   "outputs": [
    {
     "name": "stdout",
     "output_type": "stream",
     "text": [
      "[2084, 2211, 3433, 3848, 3445, 119, 1861, 251, 4487, 3994, 2640, 1823, 3146, 2299, 281, 4995, 4129, 1598, 1323, 2786]\n",
      "[2084, 2211, 3433, 3848, 3445, 119, 1861, 4487, 251, 3146, 2640, 4995, 3994, 1823, 2299, 2786, 281, 4129, 600, 1527]\n"
     ]
    },
    {
     "data": {
      "text/plain": [
       "[<matplotlib.lines.Line2D at 0x1a2032c278>]"
      ]
     },
     "execution_count": 63,
     "metadata": {},
     "output_type": "execute_result"
    },
    {
     "data": {
      "image/png": "[encoded data removed]",
      "text/plain": [
       "<Figure size 480x480 with 1 Axes>"
      ]
     },
     "metadata": {},
     "output_type": "display_data"
    }
   ],
   "source": [
    "sort_index_FEM = np.argsort(results_map)\n",
    "probs = mlp.predict_proba(X_data)\n",
    "# print(probs)\n",
    "sort_index_mlp = np.argsort(probs[:][:,1])\n",
    "\n",
    "sort_FEM = sort_index_FEM.tolist()\n",
    "sort_mlp = sort_index_mlp.tolist()\n",
    "\n",
    "print(sort_FEM[0:20])\n",
    "print(sort_mlp[0:20])\n",
    "\n",
    "rank_mlp = []\n",
    "for j in range(data_size):\n",
    "    rank_fem = sort_FEM[j]\n",
    "    rank_mlp0 = sort_mlp.index(rank_fem)\n",
    "#     print(rank_mlp0)\n",
    "    rank_mlp.append(rank_mlp0)\n",
    "\n",
    "\n",
    "plt.figure(num=None, figsize=(6, 6), dpi=80, facecolor='w', edgecolor='k')\n",
    "plt.plot(range(data_size),rank_mlp,',')\n"
   ]
  },
  {
   "cell_type": "code",
   "execution_count": null,
   "metadata": {},
   "outputs": [],
   "source": []
  }
 ],
 "metadata": {
  "kernelspec": {
   "display_name": "Python 3",
   "language": "python",
   "name": "python3"
  },
  "language_info": {
   "codemirror_mode": {
    "name": "ipython",
    "version": 3
   },
   "file_extension": ".py",
   "mimetype": "text/x-python",
   "name": "python",
   "nbconvert_exporter": "python",
   "pygments_lexer": "ipython3",
   "version": "3.6.8"
  }
 },
 "nbformat": 4,
 "nbformat_minor": 2
}
